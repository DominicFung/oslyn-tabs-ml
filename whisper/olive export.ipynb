{
 "cells": [
  {
   "cell_type": "code",
   "execution_count": 2,
   "metadata": {},
   "outputs": [
    {
     "name": "stdout",
     "output_type": "stream",
     "text": [
      "\u001b[33mDEPRECATION: Loading egg at /Library/Frameworks/Python.framework/Versions/3.11/lib/python3.11/site-packages/ctc_decoders-1.1-py3.11-macosx-10.9-universal2.egg is deprecated. pip 24.3 will enforce this behaviour change. A possible replacement is to use pip for package installation.. Discussion can be found at https://github.com/pypa/pip/issues/12330\u001b[0m\u001b[33m\n",
      "\u001b[0mRequirement already satisfied: neural-compressor in /Library/Frameworks/Python.framework/Versions/3.11/lib/python3.11/site-packages (from -r requirements.txt (line 1)) (2.4.1)\n",
      "Requirement already satisfied: onnxruntime-extensions>=0.9.0 in /Library/Frameworks/Python.framework/Versions/3.11/lib/python3.11/site-packages (from -r requirements.txt (line 2)) (0.9.0)\n",
      "Requirement already satisfied: tabulate in /Library/Frameworks/Python.framework/Versions/3.11/lib/python3.11/site-packages (from -r requirements.txt (line 3)) (0.9.0)\n",
      "Requirement already satisfied: torch>=1.13.1 in /Library/Frameworks/Python.framework/Versions/3.11/lib/python3.11/site-packages (from -r requirements.txt (line 4)) (2.1.2)\n",
      "Requirement already satisfied: transformers>=4.23.1 in /Library/Frameworks/Python.framework/Versions/3.11/lib/python3.11/site-packages (from -r requirements.txt (line 5)) (4.36.2)\n",
      "Requirement already satisfied: deprecated>=1.2.13 in /Library/Frameworks/Python.framework/Versions/3.11/lib/python3.11/site-packages (from neural-compressor->-r requirements.txt (line 1)) (1.2.14)\n",
      "Requirement already satisfied: numpy in /Library/Frameworks/Python.framework/Versions/3.11/lib/python3.11/site-packages (from neural-compressor->-r requirements.txt (line 1)) (1.26.2)\n",
      "Requirement already satisfied: opencv-python-headless in /Library/Frameworks/Python.framework/Versions/3.11/lib/python3.11/site-packages (from neural-compressor->-r requirements.txt (line 1)) (4.9.0.80)\n",
      "Requirement already satisfied: pandas in /Library/Frameworks/Python.framework/Versions/3.11/lib/python3.11/site-packages (from neural-compressor->-r requirements.txt (line 1)) (2.0.3)\n",
      "Requirement already satisfied: Pillow in /Library/Frameworks/Python.framework/Versions/3.11/lib/python3.11/site-packages (from neural-compressor->-r requirements.txt (line 1)) (10.2.0)\n",
      "Requirement already satisfied: prettytable in /Library/Frameworks/Python.framework/Versions/3.11/lib/python3.11/site-packages (from neural-compressor->-r requirements.txt (line 1)) (3.9.0)\n",
      "Requirement already satisfied: psutil in /Users/dominicfung/Library/Python/3.11/lib/python/site-packages (from neural-compressor->-r requirements.txt (line 1)) (5.9.7)\n",
      "Requirement already satisfied: py-cpuinfo in /Library/Frameworks/Python.framework/Versions/3.11/lib/python3.11/site-packages (from neural-compressor->-r requirements.txt (line 1)) (9.0.0)\n",
      "Requirement already satisfied: pyyaml in /Library/Frameworks/Python.framework/Versions/3.11/lib/python3.11/site-packages (from neural-compressor->-r requirements.txt (line 1)) (6.0.1)\n",
      "Requirement already satisfied: requests in /Library/Frameworks/Python.framework/Versions/3.11/lib/python3.11/site-packages (from neural-compressor->-r requirements.txt (line 1)) (2.31.0)\n",
      "Requirement already satisfied: schema in /Library/Frameworks/Python.framework/Versions/3.11/lib/python3.11/site-packages (from neural-compressor->-r requirements.txt (line 1)) (0.7.5)\n",
      "Requirement already satisfied: scikit-learn in /Library/Frameworks/Python.framework/Versions/3.11/lib/python3.11/site-packages (from neural-compressor->-r requirements.txt (line 1)) (1.3.2)\n",
      "Requirement already satisfied: pycocotools in /Library/Frameworks/Python.framework/Versions/3.11/lib/python3.11/site-packages (from neural-compressor->-r requirements.txt (line 1)) (2.0.7)\n",
      "Requirement already satisfied: onnx>=1.9.0 in /Library/Frameworks/Python.framework/Versions/3.11/lib/python3.11/site-packages (from onnxruntime-extensions>=0.9.0->-r requirements.txt (line 2)) (1.15.0)\n",
      "Requirement already satisfied: filelock in /Library/Frameworks/Python.framework/Versions/3.11/lib/python3.11/site-packages (from torch>=1.13.1->-r requirements.txt (line 4)) (3.13.1)\n",
      "Requirement already satisfied: typing-extensions in /Library/Frameworks/Python.framework/Versions/3.11/lib/python3.11/site-packages (from torch>=1.13.1->-r requirements.txt (line 4)) (4.9.0)\n",
      "Requirement already satisfied: sympy in /Library/Frameworks/Python.framework/Versions/3.11/lib/python3.11/site-packages (from torch>=1.13.1->-r requirements.txt (line 4)) (1.12)\n",
      "Requirement already satisfied: networkx in /Library/Frameworks/Python.framework/Versions/3.11/lib/python3.11/site-packages (from torch>=1.13.1->-r requirements.txt (line 4)) (2.8.2)\n",
      "Requirement already satisfied: jinja2 in /Library/Frameworks/Python.framework/Versions/3.11/lib/python3.11/site-packages (from torch>=1.13.1->-r requirements.txt (line 4)) (3.1.2)\n",
      "Requirement already satisfied: fsspec in /Library/Frameworks/Python.framework/Versions/3.11/lib/python3.11/site-packages (from torch>=1.13.1->-r requirements.txt (line 4)) (2023.10.0)\n",
      "Requirement already satisfied: huggingface-hub<1.0,>=0.19.3 in /Library/Frameworks/Python.framework/Versions/3.11/lib/python3.11/site-packages (from transformers>=4.23.1->-r requirements.txt (line 5)) (0.20.1)\n",
      "Requirement already satisfied: packaging>=20.0 in /Users/dominicfung/Library/Python/3.11/lib/python/site-packages (from transformers>=4.23.1->-r requirements.txt (line 5)) (23.2)\n",
      "Requirement already satisfied: regex!=2019.12.17 in /Library/Frameworks/Python.framework/Versions/3.11/lib/python3.11/site-packages (from transformers>=4.23.1->-r requirements.txt (line 5)) (2023.12.25)\n",
      "Requirement already satisfied: tokenizers<0.19,>=0.14 in /Library/Frameworks/Python.framework/Versions/3.11/lib/python3.11/site-packages (from transformers>=4.23.1->-r requirements.txt (line 5)) (0.15.0)\n",
      "Requirement already satisfied: safetensors>=0.3.1 in /Library/Frameworks/Python.framework/Versions/3.11/lib/python3.11/site-packages (from transformers>=4.23.1->-r requirements.txt (line 5)) (0.4.1)\n",
      "Requirement already satisfied: tqdm>=4.27 in /Library/Frameworks/Python.framework/Versions/3.11/lib/python3.11/site-packages (from transformers>=4.23.1->-r requirements.txt (line 5)) (4.66.1)\n",
      "Requirement already satisfied: wrapt<2,>=1.10 in /Library/Frameworks/Python.framework/Versions/3.11/lib/python3.11/site-packages (from deprecated>=1.2.13->neural-compressor->-r requirements.txt (line 1)) (1.14.1)\n",
      "Requirement already satisfied: protobuf>=3.20.2 in /Library/Frameworks/Python.framework/Versions/3.11/lib/python3.11/site-packages (from onnx>=1.9.0->onnxruntime-extensions>=0.9.0->-r requirements.txt (line 2)) (3.20.3)\n",
      "Requirement already satisfied: MarkupSafe>=2.0 in /Library/Frameworks/Python.framework/Versions/3.11/lib/python3.11/site-packages (from jinja2->torch>=1.13.1->-r requirements.txt (line 4)) (2.1.3)\n",
      "Requirement already satisfied: python-dateutil>=2.8.2 in /Users/dominicfung/Library/Python/3.11/lib/python/site-packages (from pandas->neural-compressor->-r requirements.txt (line 1)) (2.8.2)\n",
      "Requirement already satisfied: pytz>=2020.1 in /Library/Frameworks/Python.framework/Versions/3.11/lib/python3.11/site-packages (from pandas->neural-compressor->-r requirements.txt (line 1)) (2023.3.post1)\n",
      "Requirement already satisfied: tzdata>=2022.1 in /Library/Frameworks/Python.framework/Versions/3.11/lib/python3.11/site-packages (from pandas->neural-compressor->-r requirements.txt (line 1)) (2023.4)\n",
      "Requirement already satisfied: wcwidth in /Users/dominicfung/Library/Python/3.11/lib/python/site-packages (from prettytable->neural-compressor->-r requirements.txt (line 1)) (0.2.12)\n",
      "Requirement already satisfied: matplotlib>=2.1.0 in /Library/Frameworks/Python.framework/Versions/3.11/lib/python3.11/site-packages (from pycocotools->neural-compressor->-r requirements.txt (line 1)) (3.8.2)\n",
      "Requirement already satisfied: charset-normalizer<4,>=2 in /Library/Frameworks/Python.framework/Versions/3.11/lib/python3.11/site-packages (from requests->neural-compressor->-r requirements.txt (line 1)) (3.3.2)\n",
      "Requirement already satisfied: idna<4,>=2.5 in /Library/Frameworks/Python.framework/Versions/3.11/lib/python3.11/site-packages (from requests->neural-compressor->-r requirements.txt (line 1)) (3.6)\n",
      "Requirement already satisfied: urllib3<3,>=1.21.1 in /Library/Frameworks/Python.framework/Versions/3.11/lib/python3.11/site-packages (from requests->neural-compressor->-r requirements.txt (line 1)) (2.1.0)\n",
      "Requirement already satisfied: certifi>=2017.4.17 in /Library/Frameworks/Python.framework/Versions/3.11/lib/python3.11/site-packages (from requests->neural-compressor->-r requirements.txt (line 1)) (2023.11.17)\n",
      "Requirement already satisfied: contextlib2>=0.5.5 in /Library/Frameworks/Python.framework/Versions/3.11/lib/python3.11/site-packages (from schema->neural-compressor->-r requirements.txt (line 1)) (21.6.0)\n",
      "Requirement already satisfied: scipy>=1.5.0 in /Library/Frameworks/Python.framework/Versions/3.11/lib/python3.11/site-packages (from scikit-learn->neural-compressor->-r requirements.txt (line 1)) (1.11.4)\n",
      "Requirement already satisfied: joblib>=1.1.1 in /Library/Frameworks/Python.framework/Versions/3.11/lib/python3.11/site-packages (from scikit-learn->neural-compressor->-r requirements.txt (line 1)) (1.3.2)\n",
      "Requirement already satisfied: threadpoolctl>=2.0.0 in /Library/Frameworks/Python.framework/Versions/3.11/lib/python3.11/site-packages (from scikit-learn->neural-compressor->-r requirements.txt (line 1)) (3.2.0)\n",
      "Requirement already satisfied: mpmath>=0.19 in /Library/Frameworks/Python.framework/Versions/3.11/lib/python3.11/site-packages (from sympy->torch>=1.13.1->-r requirements.txt (line 4)) (1.3.0)\n",
      "Requirement already satisfied: contourpy>=1.0.1 in /Library/Frameworks/Python.framework/Versions/3.11/lib/python3.11/site-packages (from matplotlib>=2.1.0->pycocotools->neural-compressor->-r requirements.txt (line 1)) (1.2.0)\n",
      "Requirement already satisfied: cycler>=0.10 in /Library/Frameworks/Python.framework/Versions/3.11/lib/python3.11/site-packages (from matplotlib>=2.1.0->pycocotools->neural-compressor->-r requirements.txt (line 1)) (0.12.1)\n",
      "Requirement already satisfied: fonttools>=4.22.0 in /Library/Frameworks/Python.framework/Versions/3.11/lib/python3.11/site-packages (from matplotlib>=2.1.0->pycocotools->neural-compressor->-r requirements.txt (line 1)) (4.47.0)\n",
      "Requirement already satisfied: kiwisolver>=1.3.1 in /Library/Frameworks/Python.framework/Versions/3.11/lib/python3.11/site-packages (from matplotlib>=2.1.0->pycocotools->neural-compressor->-r requirements.txt (line 1)) (1.4.5)\n",
      "Requirement already satisfied: pyparsing>=2.3.1 in /Library/Frameworks/Python.framework/Versions/3.11/lib/python3.11/site-packages (from matplotlib>=2.1.0->pycocotools->neural-compressor->-r requirements.txt (line 1)) (2.4.7)\n",
      "Requirement already satisfied: six>=1.5 in /Users/dominicfung/Library/Python/3.11/lib/python/site-packages (from python-dateutil>=2.8.2->pandas->neural-compressor->-r requirements.txt (line 1)) (1.16.0)\n",
      "setting up olive ...\n",
      "[2024-01-13 15:46:39,610] [INFO] [run.py:105:dependency_setup] The following packages are required in the local environment: ['onnxruntime']\n",
      "[2024-01-13 15:46:39,704] [INFO] [run.py:253:check_local_ort_installation] onnxruntime is already installed.\n",
      "creating onnx model ...\n",
      "[2024-01-13 15:46:39,716] [DEBUG] [accelerator.py:156:create_accelerators] Initial execution providers: ['CPUExecutionProvider']\n",
      "[2024-01-13 15:46:39,716] [DEBUG] [accelerator.py:169:create_accelerators] Initial accelerators: ['cpu']\n",
      "[2024-01-13 15:46:39,717] [DEBUG] [accelerator.py:190:create_accelerators] Supported execution providers for device cpu: ['CPUExecutionProvider']\n",
      "[2024-01-13 15:46:39,718] [INFO] [accelerator.py:205:create_accelerators] Running workflow on accelerator specs: cpu-cpu\n",
      "[2024-01-13 15:46:39,793] [DEBUG] [engine.py:415:run_no_search] Running ['conversion', 'transformers_optimization', 'onnx_dynamic_quantization', 'insert_beam_search', 'prepost'] with no search ...\n",
      "[2024-01-13 15:46:39,793] [INFO] [engine.py:849:_run_pass] Running pass conversion:OnnxConversion\n",
      "[2024-01-13 15:46:39,795] [DEBUG] [resource_path.py:156:create_resource_path] Resource path code/user_script.py is inferred to be of type file.\n",
      "[2024-01-13 15:46:39,798] [DEBUG] [resource_path.py:156:create_resource_path] Resource path code is inferred to be of type folder.\n",
      "[2024-01-13 15:46:39,801] [DEBUG] [resource_path.py:156:create_resource_path] Resource path code is inferred to be of type folder.\n",
      "[2024-01-13 15:46:39,803] [DEBUG] [resource_path.py:156:create_resource_path] Resource path code/user_script.py is inferred to be of type file.\n",
      "[2024-01-13 15:46:40,168] [DEBUG] [resource_path.py:156:create_resource_path] Resource path /Users/dominicfung/Documents/oslyn-tabs-ml/whisper/code is inferred to be of type folder.\n",
      "[2024-01-13 15:46:40,171] [DEBUG] [resource_path.py:156:create_resource_path] Resource path /Users/dominicfung/Documents/oslyn-tabs-ml/whisper/code/user_script.py is inferred to be of type file.\n"
     ]
    },
    {
     "name": "stderr",
     "output_type": "stream",
     "text": [
      "2024-01-13 15:46:53.480691: I tensorflow/core/platform/cpu_feature_guard.cc:182] This TensorFlow binary is optimized to use available CPU instructions in performance-critical operations.\n",
      "To enable the following instructions: AVX2 FMA, in other operations, rebuild TensorFlow with the appropriate compiler flags.\n"
     ]
    },
    {
     "name": "stdout",
     "output_type": "stream",
     "text": [
      "[2024-01-13 15:47:12,200] [INFO] [hf_config.py:68:load_hf_model] Loading Huggingface model from openai/whisper-tiny.en\n",
      "[2024-01-13 15:47:13,451] [DEBUG] [resource_path.py:156:create_resource_path] Resource path /Users/dominicfung/Documents/oslyn-tabs-ml/whisper/code is inferred to be of type folder.\n",
      "[2024-01-13 15:47:13,453] [DEBUG] [resource_path.py:156:create_resource_path] Resource path /Users/dominicfung/Documents/oslyn-tabs-ml/whisper/code/user_script.py is inferred to be of type file.\n",
      "[2024-01-13 15:47:13,514] [DEBUG] [resource_path.py:156:create_resource_path] Resource path /Users/dominicfung/Documents/oslyn-tabs-ml/whisper/code is inferred to be of type folder.\n",
      "[2024-01-13 15:47:13,518] [DEBUG] [resource_path.py:156:create_resource_path] Resource path /Users/dominicfung/Documents/oslyn-tabs-ml/whisper/code/user_script.py is inferred to be of type file.\n",
      "[2024-01-13 15:47:13,526] [DEBUG] [pytorch.py:253:get_user_io_config] Calling get_encdec_io_config to get io_config\n",
      "[2024-01-13 15:47:15,658] [DEBUG] [dummy_inputs.py:30:get_dummy_inputs] Using dummy_inputs_func to get dummy inputs\n",
      "[2024-01-13 15:47:15,746] [DEBUG] [pytorch.py:253:get_user_io_config] Calling get_encdec_io_config to get io_config\n",
      "[2024-01-13 15:47:17,159] [DEBUG] [conversion.py:174:_export_pytorch_model] Converting model on device cpu with dtype None.\n"
     ]
    },
    {
     "name": "stderr",
     "output_type": "stream",
     "text": [
      "/Library/Frameworks/Python.framework/Versions/3.11/lib/python3.11/site-packages/transformers/models/whisper/modeling_whisper.py:1237: TracerWarning: Converting a tensor to a Python boolean might cause the trace to be incorrect. We can't record the data flow of Python values, so this value will be treated as a constant in the future. This means that the trace might not generalize to other inputs!\n",
      "  if input_features.shape[-1] != expected_seq_length:\n",
      "/Library/Frameworks/Python.framework/Versions/3.11/lib/python3.11/site-packages/transformers/models/whisper/modeling_whisper.py:418: TracerWarning: Converting a tensor to a Python boolean might cause the trace to be incorrect. We can't record the data flow of Python values, so this value will be treated as a constant in the future. This means that the trace might not generalize to other inputs!\n",
      "  if attn_weights.size() != (bsz * self.num_heads, tgt_len, src_len):\n",
      "/Library/Frameworks/Python.framework/Versions/3.11/lib/python3.11/site-packages/transformers/models/whisper/modeling_whisper.py:457: TracerWarning: Converting a tensor to a Python boolean might cause the trace to be incorrect. We can't record the data flow of Python values, so this value will be treated as a constant in the future. This means that the trace might not generalize to other inputs!\n",
      "  if attn_output.size() != (bsz * self.num_heads, tgt_len, self.head_dim):\n",
      "/Library/Frameworks/Python.framework/Versions/3.11/lib/python3.11/site-packages/torch/nn/functional.py:2215: TracerWarning: Converting a tensor to a Python boolean might cause the trace to be incorrect. We can't record the data flow of Python values, so this value will be treated as a constant in the future. This means that the trace might not generalize to other inputs!\n",
      "  assert padding_idx < weight.size(0), \"Padding_idx must be within num_embeddings\"\n",
      "/Library/Frameworks/Python.framework/Versions/3.11/lib/python3.11/site-packages/transformers/modeling_attn_mask_utils.py:86: TracerWarning: Converting a tensor to a Python boolean might cause the trace to be incorrect. We can't record the data flow of Python values, so this value will be treated as a constant in the future. This means that the trace might not generalize to other inputs!\n",
      "  if input_shape[-1] > 1 or self.sliding_window is not None:\n",
      "/Library/Frameworks/Python.framework/Versions/3.11/lib/python3.11/site-packages/transformers/modeling_attn_mask_utils.py:161: TracerWarning: Converting a tensor to a Python boolean might cause the trace to be incorrect. We can't record the data flow of Python values, so this value will be treated as a constant in the future. This means that the trace might not generalize to other inputs!\n",
      "  if past_key_values_length > 0:\n",
      "/Library/Frameworks/Python.framework/Versions/3.11/lib/python3.11/site-packages/transformers/models/whisper/modeling_whisper.py:425: TracerWarning: Converting a tensor to a Python boolean might cause the trace to be incorrect. We can't record the data flow of Python values, so this value will be treated as a constant in the future. This means that the trace might not generalize to other inputs!\n",
      "  if attention_mask.size() != (bsz, 1, tgt_len, src_len):\n"
     ]
    },
    {
     "name": "stdout",
     "output_type": "stream",
     "text": [
      "[2024-01-13 15:47:31,905] [DEBUG] [resource_path.py:156:create_resource_path] Resource path /Users/dominicfung/Documents/oslyn-tabs-ml/whisper/code is inferred to be of type folder.\n",
      "[2024-01-13 15:47:31,907] [DEBUG] [resource_path.py:156:create_resource_path] Resource path /Users/dominicfung/Documents/oslyn-tabs-ml/whisper/code/user_script.py is inferred to be of type file.\n",
      "[2024-01-13 15:47:31,979] [DEBUG] [resource_path.py:156:create_resource_path] Resource path /Users/dominicfung/Documents/oslyn-tabs-ml/whisper/code is inferred to be of type folder.\n",
      "[2024-01-13 15:47:31,982] [DEBUG] [resource_path.py:156:create_resource_path] Resource path /Users/dominicfung/Documents/oslyn-tabs-ml/whisper/code/user_script.py is inferred to be of type file.\n",
      "[2024-01-13 15:47:31,986] [DEBUG] [pytorch.py:253:get_user_io_config] Calling get_dec_io_config to get io_config\n",
      "[2024-01-13 15:47:32,056] [DEBUG] [dummy_inputs.py:30:get_dummy_inputs] Using dummy_inputs_func to get dummy inputs\n",
      "[2024-01-13 15:47:32,235] [DEBUG] [pytorch.py:253:get_user_io_config] Calling get_dec_io_config to get io_config\n",
      "[2024-01-13 15:47:32,301] [DEBUG] [conversion.py:174:_export_pytorch_model] Converting model on device cpu with dtype None.\n"
     ]
    },
    {
     "name": "stderr",
     "output_type": "stream",
     "text": [
      "/Library/Frameworks/Python.framework/Versions/3.11/lib/python3.11/site-packages/transformers/models/whisper/modeling_whisper.py:380: TracerWarning: Converting a tensor to a Python boolean might cause the trace to be incorrect. We can't record the data flow of Python values, so this value will be treated as a constant in the future. This means that the trace might not generalize to other inputs!\n",
      "  and past_key_value[0].shape[2] == key_value_states.shape[1]\n"
     ]
    },
    {
     "name": "stdout",
     "output_type": "stream",
     "text": [
      "[2024-01-13 15:47:38,878] [INFO] [engine.py:849:_run_pass] Running pass transformers_optimization:OrtTransformersOptimization\n",
      "[2024-01-13 15:47:38,881] [DEBUG] [resource_path.py:156:create_resource_path] Resource path /Users/dominicfung/Documents/oslyn-tabs-ml/whisper/cache/models/0_OnnxConversion-47dd2fb4021343504a3afd23e220842b-dc5fbbbe422d406cc8fcef71d99251a4/output_model/encoder_decoder_init/model.onnx is inferred to be of type file.\n",
      "[2024-01-13 15:47:38,884] [DEBUG] [resource_path.py:156:create_resource_path] Resource path /Users/dominicfung/Documents/oslyn-tabs-ml/whisper/cache/models/0_OnnxConversion-47dd2fb4021343504a3afd23e220842b-dc5fbbbe422d406cc8fcef71d99251a4/output_model/decoder/model.onnx is inferred to be of type file.\n",
      "[2024-01-13 15:47:53,351] [INFO] [engine.py:849:_run_pass] Running pass onnx_dynamic_quantization:OnnxDynamicQuantization\n",
      "[2024-01-13 15:47:53,353] [DEBUG] [resource_path.py:156:create_resource_path] Resource path /Users/dominicfung/Documents/oslyn-tabs-ml/whisper/cache/models/1_OrtTransformersOptimization-0-ba0868f67849092000c77ac6aa198a82/output_model/encoder_decoder_init/model.onnx is inferred to be of type file.\n",
      "[2024-01-13 15:47:53,357] [DEBUG] [resource_path.py:156:create_resource_path] Resource path /Users/dominicfung/Documents/oslyn-tabs-ml/whisper/cache/models/1_OrtTransformersOptimization-0-ba0868f67849092000c77ac6aa198a82/output_model/decoder/model.onnx is inferred to be of type file.\n",
      "[2024-01-13 15:47:53,413] [INFO] [quantization.py:354:_run_for_config] Preprocessing model for quantization\n",
      "[2024-01-13 15:48:02,249] [INFO] [quantization.py:354:_run_for_config] Preprocessing model for quantization\n",
      "[2024-01-13 15:48:09,671] [INFO] [engine.py:849:_run_pass] Running pass insert_beam_search:InsertBeamSearch\n",
      "[2024-01-13 15:48:09,673] [DEBUG] [resource_path.py:156:create_resource_path] Resource path /Users/dominicfung/Documents/oslyn-tabs-ml/whisper/cache/models/2_OnnxDynamicQuantization-1-81443df774677d62399dbb62abc7a493/output_model/encoder_decoder_init/model.onnx is inferred to be of type file.\n",
      "[2024-01-13 15:48:09,676] [DEBUG] [resource_path.py:156:create_resource_path] Resource path /Users/dominicfung/Documents/oslyn-tabs-ml/whisper/cache/models/2_OnnxDynamicQuantization-1-81443df774677d62399dbb62abc7a493/output_model/decoder/model.onnx is inferred to be of type file.\n",
      "Removed 41 initializers with duplicated value\n",
      "Removed 24 initializers with duplicated value\n",
      "[2024-01-13 15:48:13,922] [DEBUG] [insert_beam_search.py:233:chain_model] Using IR version 8 for chained model\n",
      "[2024-01-13 15:48:14,625] [INFO] [engine.py:849:_run_pass] Running pass prepost:AppendPrePostProcessingOps\n",
      "[2024-01-13 15:48:14,627] [DEBUG] [resource_path.py:156:create_resource_path] Resource path /Users/dominicfung/Documents/oslyn-tabs-ml/whisper/cache/models/3_InsertBeamSearch-2-9e78753aeadd0312db366b611fea387d/output_model/model_with_beam_search.onnx is inferred to be of type file.\n",
      "[2024-01-13 15:48:14,630] [DEBUG] [resource_path.py:156:create_resource_path] Resource path /Users/dominicfung/Documents/oslyn-tabs-ml/whisper/cache/models/3_InsertBeamSearch-2-9e78753aeadd0312db366b611fea387d/output_model/model_with_beam_search.onnx is inferred to be of type file.\n"
     ]
    },
    {
     "name": "stderr",
     "output_type": "stream",
     "text": [
      "[W shape_type_inference.cpp:1978] Warning: The shape inference of ai.onnx.contrib::StftNorm type is missing, so it may result in wrong shape inference for the exported graph. Please consider adding it in symbolic function. (function UpdateReliable)\n"
     ]
    },
    {
     "name": "stdout",
     "output_type": "stream",
     "text": [
      "[2024-01-13 15:48:16,131] [DEBUG] [engine.py:989:_evaluate_model] Evaluating model ...\n",
      "[2024-01-13 15:48:16,132] [DEBUG] [resource_path.py:156:create_resource_path] Resource path /Users/dominicfung/Documents/oslyn-tabs-ml/whisper/cache/models/4_AppendPrePostProcessingOps-3-d04938d9823a41112ee25a856b571521/output_model/model_with_beam_search.onnx is inferred to be of type file.\n",
      "[2024-01-13 15:48:16,134] [DEBUG] [resource_path.py:156:create_resource_path] Resource path /Users/dominicfung/Documents/oslyn-tabs-ml/whisper/cache/models/4_AppendPrePostProcessingOps-3-d04938d9823a41112ee25a856b571521/output_model/model_with_beam_search.onnx is inferred to be of type file.\n",
      "[2024-01-13 15:48:16,252] [DEBUG] [olive_evaluator.py:254:generate_metric_user_config_with_model_io] Model input shapes are not static. Cannot use inferred input shapes for creating dummy data. This will cause an error when creating dummy data for tuning.\n",
      "[2024-01-13 15:48:16,254] [DEBUG] [resource_path.py:156:create_resource_path] Resource path /Users/dominicfung/Documents/oslyn-tabs-ml/whisper/data is inferred to be of type folder.\n",
      "[2024-01-13 15:48:36,703] [DEBUG] [footprint.py:230:_resolve_metrics] There is no goal set for metric: latency-avg.\n",
      "[2024-01-13 15:48:36,704] [DEBUG] [engine.py:829:_run_passes] Signal: {\n",
      "  \"latency-avg\": 533.03611\n",
      "}\n",
      "[2024-01-13 15:48:36,705] [DEBUG] [engine.py:435:run_no_search] Engine output_name is provided. Will ignore output_name for final pass\n",
      "[2024-01-13 15:48:36,708] [DEBUG] [resource_path.py:156:create_resource_path] Resource path /Users/dominicfung/Documents/oslyn-tabs-ml/whisper/cache/models/4_AppendPrePostProcessingOps-3-d04938d9823a41112ee25a856b571521/output_model/model_with_beam_search.onnx is inferred to be of type file.\n",
      "[2024-01-13 15:48:36,770] [INFO] [engine.py:282:run] Run history for cpu-cpu:\n",
      "[2024-01-13 15:48:36,779] [INFO] [engine.py:555:dump_run_history] run history:\n",
      "+------------------------------------------------------------------------------------+------------------------------------------------------------------------------------+-----------------------------+----------------+----------------------------+\n",
      "| model_id                                                                           | parent_model_id                                                                    | from_pass                   |   duration_sec | metrics                    |\n",
      "+====================================================================================+====================================================================================+=============================+================+============================+\n",
      "| 47dd2fb4021343504a3afd23e220842b                                                   |                                                                                    |                             |                |                            |\n",
      "+------------------------------------------------------------------------------------+------------------------------------------------------------------------------------+-----------------------------+----------------+----------------------------+\n",
      "| 0_OnnxConversion-47dd2fb4021343504a3afd23e220842b-dc5fbbbe422d406cc8fcef71d99251a4 | 47dd2fb4021343504a3afd23e220842b                                                   | OnnxConversion              |       59.0696  |                            |\n",
      "+------------------------------------------------------------------------------------+------------------------------------------------------------------------------------+-----------------------------+----------------+----------------------------+\n",
      "| 1_OrtTransformersOptimization-0-ba0868f67849092000c77ac6aa198a82                   | 0_OnnxConversion-47dd2fb4021343504a3afd23e220842b-dc5fbbbe422d406cc8fcef71d99251a4 | OrtTransformersOptimization |       14.4614  |                            |\n",
      "+------------------------------------------------------------------------------------+------------------------------------------------------------------------------------+-----------------------------+----------------+----------------------------+\n",
      "| 2_OnnxDynamicQuantization-1-81443df774677d62399dbb62abc7a493                       | 1_OrtTransformersOptimization-0-ba0868f67849092000c77ac6aa198a82                   | OnnxDynamicQuantization     |       16.3116  |                            |\n",
      "+------------------------------------------------------------------------------------+------------------------------------------------------------------------------------+-----------------------------+----------------+----------------------------+\n",
      "| 3_InsertBeamSearch-2-9e78753aeadd0312db366b611fea387d                              | 2_OnnxDynamicQuantization-1-81443df774677d62399dbb62abc7a493                       | InsertBeamSearch            |        4.94917 |                            |\n",
      "+------------------------------------------------------------------------------------+------------------------------------------------------------------------------------+-----------------------------+----------------+----------------------------+\n",
      "| 4_AppendPrePostProcessingOps-3-d04938d9823a41112ee25a856b571521                    | 3_InsertBeamSearch-2-9e78753aeadd0312db366b611fea387d                              | AppendPrePostProcessingOps  |        1.49775 | {                          |\n",
      "|                                                                                    |                                                                                    |                             |                |   \"latency-avg\": 533.03611 |\n",
      "|                                                                                    |                                                                                    |                             |                | }                          |\n",
      "+------------------------------------------------------------------------------------+------------------------------------------------------------------------------------+-----------------------------+----------------+----------------------------+\n",
      "[2024-01-13 15:48:36,780] [INFO] [engine.py:296:run] No packaging config provided, skip packaging artifacts\n",
      "done.\n"
     ]
    }
   ],
   "source": [
    "!pip install -q -r requirements.txt\n",
    "%run prepare_whisper_configs.py --model_name openai/whisper-tiny.en --no_audio_decoder\n",
    "\n",
    "from olive.workflows import run\n",
    "\n",
    "print(\"setting up olive ...\")\n",
    "run(config='whisper_cpu_int8.json', setup=True)\n",
    "\n",
    "print(\"creating onnx model ...\")\n",
    "run(config='whisper_cpu_int8.json')\n",
    "\n",
    "print(\"done.\")\n"
   ]
  }
 ],
 "metadata": {
  "kernelspec": {
   "display_name": "Python 3",
   "language": "python",
   "name": "python3"
  },
  "language_info": {
   "codemirror_mode": {
    "name": "ipython",
    "version": 3
   },
   "file_extension": ".py",
   "mimetype": "text/x-python",
   "name": "python",
   "nbconvert_exporter": "python",
   "pygments_lexer": "ipython3",
   "version": "3.11.5"
  }
 },
 "nbformat": 4,
 "nbformat_minor": 2
}
