{
 "cells": [
  {
   "cell_type": "code",
   "execution_count": 2,
   "metadata": {},
   "outputs": [
    {
     "name": "stdout",
     "output_type": "stream",
     "text": [
      "\u001b[33mDEPRECATION: Loading egg at /Library/Frameworks/Python.framework/Versions/3.11/lib/python3.11/site-packages/ctc_decoders-1.1-py3.11-macosx-10.9-universal2.egg is deprecated. pip 24.3 will enforce this behaviour change. A possible replacement is to use pip for package installation.. Discussion can be found at https://github.com/pypa/pip/issues/12330\u001b[0m\u001b[33m\n",
      "\u001b[0mRequirement already satisfied: neural-compressor in /Library/Frameworks/Python.framework/Versions/3.11/lib/python3.11/site-packages (from -r requirements.txt (line 1)) (2.4.1)\n",
      "Requirement already satisfied: onnxruntime-extensions>=0.9.0 in /Library/Frameworks/Python.framework/Versions/3.11/lib/python3.11/site-packages (from -r requirements.txt (line 2)) (0.9.0)\n",
      "Requirement already satisfied: tabulate in /Library/Frameworks/Python.framework/Versions/3.11/lib/python3.11/site-packages (from -r requirements.txt (line 3)) (0.9.0)\n",
      "Requirement already satisfied: torch>=1.13.1 in /Library/Frameworks/Python.framework/Versions/3.11/lib/python3.11/site-packages (from -r requirements.txt (line 4)) (2.1.2)\n",
      "Requirement already satisfied: transformers>=4.23.1 in /Library/Frameworks/Python.framework/Versions/3.11/lib/python3.11/site-packages (from -r requirements.txt (line 5)) (4.36.2)\n",
      "Requirement already satisfied: deprecated>=1.2.13 in /Library/Frameworks/Python.framework/Versions/3.11/lib/python3.11/site-packages (from neural-compressor->-r requirements.txt (line 1)) (1.2.14)\n",
      "Requirement already satisfied: numpy in /Library/Frameworks/Python.framework/Versions/3.11/lib/python3.11/site-packages (from neural-compressor->-r requirements.txt (line 1)) (1.26.2)\n",
      "Requirement already satisfied: opencv-python-headless in /Library/Frameworks/Python.framework/Versions/3.11/lib/python3.11/site-packages (from neural-compressor->-r requirements.txt (line 1)) (4.9.0.80)\n",
      "Requirement already satisfied: pandas in /Library/Frameworks/Python.framework/Versions/3.11/lib/python3.11/site-packages (from neural-compressor->-r requirements.txt (line 1)) (2.0.3)\n",
      "Requirement already satisfied: Pillow in /Library/Frameworks/Python.framework/Versions/3.11/lib/python3.11/site-packages (from neural-compressor->-r requirements.txt (line 1)) (10.2.0)\n",
      "Requirement already satisfied: prettytable in /Library/Frameworks/Python.framework/Versions/3.11/lib/python3.11/site-packages (from neural-compressor->-r requirements.txt (line 1)) (3.9.0)\n",
      "Requirement already satisfied: psutil in /Users/dominicfung/Library/Python/3.11/lib/python/site-packages (from neural-compressor->-r requirements.txt (line 1)) (5.9.7)\n",
      "Requirement already satisfied: py-cpuinfo in /Library/Frameworks/Python.framework/Versions/3.11/lib/python3.11/site-packages (from neural-compressor->-r requirements.txt (line 1)) (9.0.0)\n",
      "Requirement already satisfied: pyyaml in /Library/Frameworks/Python.framework/Versions/3.11/lib/python3.11/site-packages (from neural-compressor->-r requirements.txt (line 1)) (6.0.1)\n",
      "Requirement already satisfied: requests in /Library/Frameworks/Python.framework/Versions/3.11/lib/python3.11/site-packages (from neural-compressor->-r requirements.txt (line 1)) (2.31.0)\n",
      "Requirement already satisfied: schema in /Library/Frameworks/Python.framework/Versions/3.11/lib/python3.11/site-packages (from neural-compressor->-r requirements.txt (line 1)) (0.7.5)\n",
      "Requirement already satisfied: scikit-learn in /Library/Frameworks/Python.framework/Versions/3.11/lib/python3.11/site-packages (from neural-compressor->-r requirements.txt (line 1)) (1.3.2)\n",
      "Requirement already satisfied: pycocotools in /Library/Frameworks/Python.framework/Versions/3.11/lib/python3.11/site-packages (from neural-compressor->-r requirements.txt (line 1)) (2.0.7)\n",
      "Requirement already satisfied: onnx>=1.9.0 in /Library/Frameworks/Python.framework/Versions/3.11/lib/python3.11/site-packages (from onnxruntime-extensions>=0.9.0->-r requirements.txt (line 2)) (1.15.0)\n",
      "Requirement already satisfied: filelock in /Library/Frameworks/Python.framework/Versions/3.11/lib/python3.11/site-packages (from torch>=1.13.1->-r requirements.txt (line 4)) (3.13.1)\n",
      "Requirement already satisfied: typing-extensions in /Library/Frameworks/Python.framework/Versions/3.11/lib/python3.11/site-packages (from torch>=1.13.1->-r requirements.txt (line 4)) (4.9.0)\n",
      "Requirement already satisfied: sympy in /Library/Frameworks/Python.framework/Versions/3.11/lib/python3.11/site-packages (from torch>=1.13.1->-r requirements.txt (line 4)) (1.12)\n",
      "Requirement already satisfied: networkx in /Library/Frameworks/Python.framework/Versions/3.11/lib/python3.11/site-packages (from torch>=1.13.1->-r requirements.txt (line 4)) (2.8.2)\n",
      "Requirement already satisfied: jinja2 in /Library/Frameworks/Python.framework/Versions/3.11/lib/python3.11/site-packages (from torch>=1.13.1->-r requirements.txt (line 4)) (3.1.2)\n",
      "Requirement already satisfied: fsspec in /Library/Frameworks/Python.framework/Versions/3.11/lib/python3.11/site-packages (from torch>=1.13.1->-r requirements.txt (line 4)) (2023.10.0)\n",
      "Requirement already satisfied: huggingface-hub<1.0,>=0.19.3 in /Library/Frameworks/Python.framework/Versions/3.11/lib/python3.11/site-packages (from transformers>=4.23.1->-r requirements.txt (line 5)) (0.20.1)\n",
      "Requirement already satisfied: packaging>=20.0 in /Users/dominicfung/Library/Python/3.11/lib/python/site-packages (from transformers>=4.23.1->-r requirements.txt (line 5)) (23.2)\n",
      "Requirement already satisfied: regex!=2019.12.17 in /Library/Frameworks/Python.framework/Versions/3.11/lib/python3.11/site-packages (from transformers>=4.23.1->-r requirements.txt (line 5)) (2023.12.25)\n",
      "Requirement already satisfied: tokenizers<0.19,>=0.14 in /Library/Frameworks/Python.framework/Versions/3.11/lib/python3.11/site-packages (from transformers>=4.23.1->-r requirements.txt (line 5)) (0.15.0)\n",
      "Requirement already satisfied: safetensors>=0.3.1 in /Library/Frameworks/Python.framework/Versions/3.11/lib/python3.11/site-packages (from transformers>=4.23.1->-r requirements.txt (line 5)) (0.4.1)\n",
      "Requirement already satisfied: tqdm>=4.27 in /Library/Frameworks/Python.framework/Versions/3.11/lib/python3.11/site-packages (from transformers>=4.23.1->-r requirements.txt (line 5)) (4.66.1)\n",
      "Requirement already satisfied: wrapt<2,>=1.10 in /Library/Frameworks/Python.framework/Versions/3.11/lib/python3.11/site-packages (from deprecated>=1.2.13->neural-compressor->-r requirements.txt (line 1)) (1.14.1)\n",
      "Requirement already satisfied: protobuf>=3.20.2 in /Library/Frameworks/Python.framework/Versions/3.11/lib/python3.11/site-packages (from onnx>=1.9.0->onnxruntime-extensions>=0.9.0->-r requirements.txt (line 2)) (3.20.3)\n",
      "Requirement already satisfied: MarkupSafe>=2.0 in /Library/Frameworks/Python.framework/Versions/3.11/lib/python3.11/site-packages (from jinja2->torch>=1.13.1->-r requirements.txt (line 4)) (2.1.3)\n",
      "Requirement already satisfied: python-dateutil>=2.8.2 in /Users/dominicfung/Library/Python/3.11/lib/python/site-packages (from pandas->neural-compressor->-r requirements.txt (line 1)) (2.8.2)\n",
      "Requirement already satisfied: pytz>=2020.1 in /Library/Frameworks/Python.framework/Versions/3.11/lib/python3.11/site-packages (from pandas->neural-compressor->-r requirements.txt (line 1)) (2023.3.post1)\n",
      "Requirement already satisfied: tzdata>=2022.1 in /Library/Frameworks/Python.framework/Versions/3.11/lib/python3.11/site-packages (from pandas->neural-compressor->-r requirements.txt (line 1)) (2023.4)\n",
      "Requirement already satisfied: wcwidth in /Users/dominicfung/Library/Python/3.11/lib/python/site-packages (from prettytable->neural-compressor->-r requirements.txt (line 1)) (0.2.12)\n",
      "Requirement already satisfied: matplotlib>=2.1.0 in /Library/Frameworks/Python.framework/Versions/3.11/lib/python3.11/site-packages (from pycocotools->neural-compressor->-r requirements.txt (line 1)) (3.8.2)\n",
      "Requirement already satisfied: charset-normalizer<4,>=2 in /Library/Frameworks/Python.framework/Versions/3.11/lib/python3.11/site-packages (from requests->neural-compressor->-r requirements.txt (line 1)) (3.3.2)\n",
      "Requirement already satisfied: idna<4,>=2.5 in /Library/Frameworks/Python.framework/Versions/3.11/lib/python3.11/site-packages (from requests->neural-compressor->-r requirements.txt (line 1)) (3.6)\n",
      "Requirement already satisfied: urllib3<3,>=1.21.1 in /Library/Frameworks/Python.framework/Versions/3.11/lib/python3.11/site-packages (from requests->neural-compressor->-r requirements.txt (line 1)) (2.1.0)\n",
      "Requirement already satisfied: certifi>=2017.4.17 in /Library/Frameworks/Python.framework/Versions/3.11/lib/python3.11/site-packages (from requests->neural-compressor->-r requirements.txt (line 1)) (2023.11.17)\n",
      "Requirement already satisfied: contextlib2>=0.5.5 in /Library/Frameworks/Python.framework/Versions/3.11/lib/python3.11/site-packages (from schema->neural-compressor->-r requirements.txt (line 1)) (21.6.0)\n",
      "Requirement already satisfied: scipy>=1.5.0 in /Library/Frameworks/Python.framework/Versions/3.11/lib/python3.11/site-packages (from scikit-learn->neural-compressor->-r requirements.txt (line 1)) (1.11.4)\n",
      "Requirement already satisfied: joblib>=1.1.1 in /Library/Frameworks/Python.framework/Versions/3.11/lib/python3.11/site-packages (from scikit-learn->neural-compressor->-r requirements.txt (line 1)) (1.3.2)\n",
      "Requirement already satisfied: threadpoolctl>=2.0.0 in /Library/Frameworks/Python.framework/Versions/3.11/lib/python3.11/site-packages (from scikit-learn->neural-compressor->-r requirements.txt (line 1)) (3.2.0)\n",
      "Requirement already satisfied: mpmath>=0.19 in /Library/Frameworks/Python.framework/Versions/3.11/lib/python3.11/site-packages (from sympy->torch>=1.13.1->-r requirements.txt (line 4)) (1.3.0)\n",
      "Requirement already satisfied: contourpy>=1.0.1 in /Library/Frameworks/Python.framework/Versions/3.11/lib/python3.11/site-packages (from matplotlib>=2.1.0->pycocotools->neural-compressor->-r requirements.txt (line 1)) (1.2.0)\n",
      "Requirement already satisfied: cycler>=0.10 in /Library/Frameworks/Python.framework/Versions/3.11/lib/python3.11/site-packages (from matplotlib>=2.1.0->pycocotools->neural-compressor->-r requirements.txt (line 1)) (0.12.1)\n",
      "Requirement already satisfied: fonttools>=4.22.0 in /Library/Frameworks/Python.framework/Versions/3.11/lib/python3.11/site-packages (from matplotlib>=2.1.0->pycocotools->neural-compressor->-r requirements.txt (line 1)) (4.47.0)\n",
      "Requirement already satisfied: kiwisolver>=1.3.1 in /Library/Frameworks/Python.framework/Versions/3.11/lib/python3.11/site-packages (from matplotlib>=2.1.0->pycocotools->neural-compressor->-r requirements.txt (line 1)) (1.4.5)\n",
      "Requirement already satisfied: pyparsing>=2.3.1 in /Library/Frameworks/Python.framework/Versions/3.11/lib/python3.11/site-packages (from matplotlib>=2.1.0->pycocotools->neural-compressor->-r requirements.txt (line 1)) (2.4.7)\n",
      "Requirement already satisfied: six>=1.5 in /Users/dominicfung/Library/Python/3.11/lib/python/site-packages (from python-dateutil>=2.8.2->pandas->neural-compressor->-r requirements.txt (line 1)) (1.16.0)\n",
      "setting up olive ...\n",
      "[2024-01-13 15:46:39,610] [INFO] [run.py:105:dependency_setup] The following packages are required in the local environment: ['onnxruntime']\n",
      "[2024-01-13 15:46:39,704] [INFO] [run.py:253:check_local_ort_installation] onnxruntime is already installed.\n",
      "creating onnx model ...\n",
      "[2024-01-13 15:46:39,716] [DEBUG] [accelerator.py:156:create_accelerators] Initial execution providers: ['CPUExecutionProvider']\n",
      "[2024-01-13 15:46:39,716] [DEBUG] [accelerator.py:169:create_accelerators] Initial accelerators: ['cpu']\n",
      "[2024-01-13 15:46:39,717] [DEBUG] [accelerator.py:190:create_accelerators] Supported execution providers for device cpu: ['CPUExecutionProvider']\n",
      "[2024-01-13 15:46:39,718] [INFO] [accelerator.py:205:create_accelerators] Running workflow on accelerator specs: cpu-cpu\n",
      "[2024-01-13 15:46:39,793] [DEBUG] [engine.py:415:run_no_search] Running ['conversion', 'transformers_optimization', 'onnx_dynamic_quantization', 'insert_beam_search', 'prepost'] with no search ...\n",
      "[2024-01-13 15:46:39,793] [INFO] [engine.py:849:_run_pass] Running pass conversion:OnnxConversion\n",
      "[2024-01-13 15:46:39,795] [DEBUG] [resource_path.py:156:create_resource_path] Resource path code/user_script.py is inferred to be of type file.\n",
      "[2024-01-13 15:46:39,798] [DEBUG] [resource_path.py:156:create_resource_path] Resource path code is inferred to be of type folder.\n",
      "[2024-01-13 15:46:39,801] [DEBUG] [resource_path.py:156:create_resource_path] Resource path code is inferred to be of type folder.\n",
      "[2024-01-13 15:46:39,803] [DEBUG] [resource_path.py:156:create_resource_path] Resource path code/user_script.py is inferred to be of type file.\n",
      "[2024-01-13 15:46:40,168] [DEBUG] [resource_path.py:156:create_resource_path] Resource path /Users/dominicfung/Documents/oslyn-tabs-ml/whisper/code is inferred to be of type folder.\n",
      "[2024-01-13 15:46:40,171] [DEBUG] [resource_path.py:156:create_resource_path] Resource path /Users/dominicfung/Documents/oslyn-tabs-ml/whisper/code/user_script.py is inferred to be of type file.\n"
     ]
    },
    {
     "name": "stderr",
     "output_type": "stream",
     "text": [
      "2024-01-13 15:46:53.480691: I tensorflow/core/platform/cpu_feature_guard.cc:182] This TensorFlow binary is optimized to use available CPU instructions in performance-critical operations.\n",
      "To enable the following instructions: AVX2 FMA, in other operations, rebuild TensorFlow with the appropriate compiler flags.\n"
     ]
    },
    {
     "name": "stdout",
     "output_type": "stream",
     "text": [
      "[2024-01-13 15:47:12,200] [INFO] [hf_config.py:68:load_hf_model] Loading Huggingface model from openai/whisper-tiny.en\n",
      "[2024-01-13 15:47:13,451] [DEBUG] [resource_path.py:156:create_resource_path] Resource path /Users/dominicfung/Documents/oslyn-tabs-ml/whisper/code is inferred to be of type folder.\n",
      "[2024-01-13 15:47:13,453] [DEBUG] [resource_path.py:156:create_resource_path] Resource path /Users/dominicfung/Documents/oslyn-tabs-ml/whisper/code/user_script.py is inferred to be of type file.\n",
      "[2024-01-13 15:47:13,514] [DEBUG] [resource_path.py:156:create_resource_path] Resource path /Users/dominicfung/Documents/oslyn-tabs-ml/whisper/code is inferred to be of type folder.\n",
      "[2024-01-13 15:47:13,518] [DEBUG] [resource_path.py:156:create_resource_path] Resource path /Users/dominicfung/Documents/oslyn-tabs-ml/whisper/code/user_script.py is inferred to be of type file.\n",
      "[2024-01-13 15:47:13,526] [DEBUG] [pytorch.py:253:get_user_io_config] Calling get_encdec_io_config to get io_config\n",
      "[2024-01-13 15:47:15,658] [DEBUG] [dummy_inputs.py:30:get_dummy_inputs] Using dummy_inputs_func to get dummy inputs\n",
      "[2024-01-13 15:47:15,746] [DEBUG] [pytorch.py:253:get_user_io_config] Calling get_encdec_io_config to get io_config\n",
      "[2024-01-13 15:47:17,159] [DEBUG] [conversion.py:174:_export_pytorch_model] Converting model on device cpu with dtype None.\n"
     ]
    },
    {
     "name": "stderr",
     "output_type": "stream",
     "text": [
      "/Library/Frameworks/Python.framework/Versions/3.11/lib/python3.11/site-packages/transformers/models/whisper/modeling_whisper.py:1237: TracerWarning: Converting a tensor to a Python boolean might cause the trace to be incorrect. We can't record the data flow of Python values, so this value will be treated as a constant in the future. This means that the trace might not generalize to other inputs!\n",
      "  if input_features.shape[-1] != expected_seq_length:\n",
      "/Library/Frameworks/Python.framework/Versions/3.11/lib/python3.11/site-packages/transformers/models/whisper/modeling_whisper.py:418: TracerWarning: Converting a tensor to a Python boolean might cause the trace to be incorrect. We can't record the data flow of Python values, so this value will be treated as a constant in the future. This means that the trace might not generalize to other inputs!\n",
      "  if attn_weights.size() != (bsz * self.num_heads, tgt_len, src_len):\n",
      "/Library/Frameworks/Python.framework/Versions/3.11/lib/python3.11/site-packages/transformers/models/whisper/modeling_whisper.py:457: TracerWarning: Converting a tensor to a Python boolean might cause the trace to be incorrect. We can't record the data flow of Python values, so this value will be treated as a constant in the future. This means that the trace might not generalize to other inputs!\n",
      "  if attn_output.size() != (bsz * self.num_heads, tgt_len, self.head_dim):\n",
      "/Library/Frameworks/Python.framework/Versions/3.11/lib/python3.11/site-packages/torch/nn/functional.py:2215: TracerWarning: Converting a tensor to a Python boolean might cause the trace to be incorrect. We can't record the data flow of Python values, so this value will be treated as a constant in the future. This means that the trace might not generalize to other inputs!\n",
      "  assert padding_idx < weight.size(0), \"Padding_idx must be within num_embeddings\"\n",
      "/Library/Frameworks/Python.framework/Versions/3.11/lib/python3.11/site-packages/transformers/modeling_attn_mask_utils.py:86: TracerWarning: Converting a tensor to a Python boolean might cause the trace to be incorrect. We can't record the data flow of Python values, so this value will be treated as a constant in the future. This means that the trace might not generalize to other inputs!\n",
      "  if input_shape[-1] > 1 or self.sliding_window is not None:\n",
      "/Library/Frameworks/Python.framework/Versions/3.11/lib/python3.11/site-packages/transformers/modeling_attn_mask_utils.py:161: TracerWarning: Converting a tensor to a Python boolean might cause the trace to be incorrect. We can't record the data flow of Python values, so this value will be treated as a constant in the future. This means that the trace might not generalize to other inputs!\n",
      "  if past_key_values_length > 0:\n",
      "/Library/Frameworks/Python.framework/Versions/3.11/lib/python3.11/site-packages/transformers/models/whisper/modeling_whisper.py:425: TracerWarning: Converting a tensor to a Python boolean might cause the trace to be incorrect. We can't record the data flow of Python values, so this value will be treated as a constant in the future. This means that the trace might not generalize to other inputs!\n",
      "  if attention_mask.size() != (bsz, 1, tgt_len, src_len):\n"
     ]
    },
    {
     "name": "stdout",
     "output_type": "stream",
     "text": [
      "[2024-01-13 15:47:31,905] [DEBUG] [resource_path.py:156:create_resource_path] Resource path /Users/dominicfung/Documents/oslyn-tabs-ml/whisper/code is inferred to be of type folder.\n",
      "[2024-01-13 15:47:31,907] [DEBUG] [resource_path.py:156:create_resource_path] Resource path /Users/dominicfung/Documents/oslyn-tabs-ml/whisper/code/user_script.py is inferred to be of type file.\n",
      "[2024-01-13 15:47:31,979] [DEBUG] [resource_path.py:156:create_resource_path] Resource path /Users/dominicfung/Documents/oslyn-tabs-ml/whisper/code is inferred to be of type folder.\n",
      "[2024-01-13 15:47:31,982] [DEBUG] [resource_path.py:156:create_resource_path] Resource path /Users/dominicfung/Documents/oslyn-tabs-ml/whisper/code/user_script.py is inferred to be of type file.\n",
      "[2024-01-13 15:47:31,986] [DEBUG] [pytorch.py:253:get_user_io_config] Calling get_dec_io_config to get io_config\n",
      "[2024-01-13 15:47:32,056] [DEBUG] [dummy_inputs.py:30:get_dummy_inputs] Using dummy_inputs_func to get dummy inputs\n",
      "[2024-01-13 15:47:32,235] [DEBUG] [pytorch.py:253:get_user_io_config] Calling get_dec_io_config to get io_config\n",
      "[2024-01-13 15:47:32,301] [DEBUG] [conversion.py:174:_export_pytorch_model] Converting model on device cpu with dtype None.\n"
     ]
    },
    {
     "name": "stderr",
     "output_type": "stream",
     "text": [
      "/Library/Frameworks/Python.framework/Versions/3.11/lib/python3.11/site-packages/transformers/models/whisper/modeling_whisper.py:380: TracerWarning: Converting a tensor to a Python boolean might cause the trace to be incorrect. We can't record the data flow of Python values, so this value will be treated as a constant in the future. This means that the trace might not generalize to other inputs!\n",
      "  and past_key_value[0].shape[2] == key_value_states.shape[1]\n"
     ]
    },
    {
     "name": "stdout",
     "output_type": "stream",
     "text": [
      "[2024-01-13 15:47:38,878] [INFO] [engine.py:849:_run_pass] Running pass transformers_optimization:OrtTransformersOptimization\n",
      "[2024-01-13 15:47:38,881] [DEBUG] [resource_path.py:156:create_resource_path] Resource path /Users/dominicfung/Documents/oslyn-tabs-ml/whisper/cache/models/0_OnnxConversion-47dd2fb4021343504a3afd23e220842b-dc5fbbbe422d406cc8fcef71d99251a4/output_model/encoder_decoder_init/model.onnx is inferred to be of type file.\n",
      "[2024-01-13 15:47:38,884] [DEBUG] [resource_path.py:156:create_resource_path] Resource path /Users/dominicfung/Documents/oslyn-tabs-ml/whisper/cache/models/0_OnnxConversion-47dd2fb4021343504a3afd23e220842b-dc5fbbbe422d406cc8fcef71d99251a4/output_model/decoder/model.onnx is inferred to be of type file.\n",
      "[2024-01-13 15:47:53,351] [INFO] [engine.py:849:_run_pass] Running pass onnx_dynamic_quantization:OnnxDynamicQuantization\n",
      "[2024-01-13 15:47:53,353] [DEBUG] [resource_path.py:156:create_resource_path] Resource path /Users/dominicfung/Documents/oslyn-tabs-ml/whisper/cache/models/1_OrtTransformersOptimization-0-ba0868f67849092000c77ac6aa198a82/output_model/encoder_decoder_init/model.onnx is inferred to be of type file.\n",
      "[2024-01-13 15:47:53,357] [DEBUG] [resource_path.py:156:create_resource_path] Resource path /Users/dominicfung/Documents/oslyn-tabs-ml/whisper/cache/models/1_OrtTransformersOptimization-0-ba0868f67849092000c77ac6aa198a82/output_model/decoder/model.onnx is inferred to be of type file.\n",
      "[2024-01-13 15:47:53,413] [INFO] [quantization.py:354:_run_for_config] Preprocessing model for quantization\n",
      "[2024-01-13 15:48:02,249] [INFO] [quantization.py:354:_run_for_config] Preprocessing model for quantization\n",
      "[2024-01-13 15:48:09,671] [INFO] [engine.py:849:_run_pass] Running pass insert_beam_search:InsertBeamSearch\n",
      "[2024-01-13 15:48:09,673] [DEBUG] [resource_path.py:156:create_resource_path] Resource path /Users/dominicfung/Documents/oslyn-tabs-ml/whisper/cache/models/2_OnnxDynamicQuantization-1-81443df774677d62399dbb62abc7a493/output_model/encoder_decoder_init/model.onnx is inferred to be of type file.\n",
      "[2024-01-13 15:48:09,676] [DEBUG] [resource_path.py:156:create_resource_path] Resource path /Users/dominicfung/Documents/oslyn-tabs-ml/whisper/cache/models/2_OnnxDynamicQuantization-1-81443df774677d62399dbb62abc7a493/output_model/decoder/model.onnx is inferred to be of type file.\n",
      "Removed 41 initializers with duplicated value\n",
      "Removed 24 initializers with duplicated value\n",
      "[2024-01-13 15:48:13,922] [DEBUG] [insert_beam_search.py:233:chain_model] Using IR version 8 for chained model\n",
      "[2024-01-13 15:48:14,625] [INFO] [engine.py:849:_run_pass] Running pass prepost:AppendPrePostProcessingOps\n",
      "[2024-01-13 15:48:14,627] [DEBUG] [resource_path.py:156:create_resource_path] Resource path /Users/dominicfung/Documents/oslyn-tabs-ml/whisper/cache/models/3_InsertBeamSearch-2-9e78753aeadd0312db366b611fea387d/output_model/model_with_beam_search.onnx is inferred to be of type file.\n",
      "[2024-01-13 15:48:14,630] [DEBUG] [resource_path.py:156:create_resource_path] Resource path /Users/dominicfung/Documents/oslyn-tabs-ml/whisper/cache/models/3_InsertBeamSearch-2-9e78753aeadd0312db366b611fea387d/output_model/model_with_beam_search.onnx is inferred to be of type file.\n"
     ]
    },
    {
     "name": "stderr",
     "output_type": "stream",
     "text": [
      "[W shape_type_inference.cpp:1978] Warning: The shape inference of ai.onnx.contrib::StftNorm type is missing, so it may result in wrong shape inference for the exported graph. Please consider adding it in symbolic function. (function UpdateReliable)\n"
     ]
    },
    {
     "name": "stdout",
     "output_type": "stream",
     "text": [
      "[2024-01-13 15:48:16,131] [DEBUG] [engine.py:989:_evaluate_model] Evaluating model ...\n",
      "[2024-01-13 15:48:16,132] [DEBUG] [resource_path.py:156:create_resource_path] Resource path /Users/dominicfung/Documents/oslyn-tabs-ml/whisper/cache/models/4_AppendPrePostProcessingOps-3-d04938d9823a41112ee25a856b571521/output_model/model_with_beam_search.onnx is inferred to be of type file.\n",
      "[2024-01-13 15:48:16,134] [DEBUG] [resource_path.py:156:create_resource_path] Resource path /Users/dominicfung/Documents/oslyn-tabs-ml/whisper/cache/models/4_AppendPrePostProcessingOps-3-d04938d9823a41112ee25a856b571521/output_model/model_with_beam_search.onnx is inferred to be of type file.\n",
      "[2024-01-13 15:48:16,252] [DEBUG] [olive_evaluator.py:254:generate_metric_user_config_with_model_io] Model input shapes are not static. Cannot use inferred input shapes for creating dummy data. This will cause an error when creating dummy data for tuning.\n",
      "[2024-01-13 15:48:16,254] [DEBUG] [resource_path.py:156:create_resource_path] Resource path /Users/dominicfung/Documents/oslyn-tabs-ml/whisper/data is inferred to be of type folder.\n",
      "[2024-01-13 15:48:36,703] [DEBUG] [footprint.py:230:_resolve_metrics] There is no goal set for metric: latency-avg.\n",
      "[2024-01-13 15:48:36,704] [DEBUG] [engine.py:829:_run_passes] Signal: {\n",
      "  \"latency-avg\": 533.03611\n",
      "}\n",
      "[2024-01-13 15:48:36,705] [DEBUG] [engine.py:435:run_no_search] Engine output_name is provided. Will ignore output_name for final pass\n",
      "[2024-01-13 15:48:36,708] [DEBUG] [resource_path.py:156:create_resource_path] Resource path /Users/dominicfung/Documents/oslyn-tabs-ml/whisper/cache/models/4_AppendPrePostProcessingOps-3-d04938d9823a41112ee25a856b571521/output_model/model_with_beam_search.onnx is inferred to be of type file.\n",
      "[2024-01-13 15:48:36,770] [INFO] [engine.py:282:run] Run history for cpu-cpu:\n",
      "[2024-01-13 15:48:36,779] [INFO] [engine.py:555:dump_run_history] run history:\n",
      "+------------------------------------------------------------------------------------+------------------------------------------------------------------------------------+-----------------------------+----------------+----------------------------+\n",
      "| model_id                                                                           | parent_model_id                                                                    | from_pass                   |   duration_sec | metrics                    |\n",
      "+====================================================================================+====================================================================================+=============================+================+============================+\n",
      "| 47dd2fb4021343504a3afd23e220842b                                                   |                                                                                    |                             |                |                            |\n",
      "+------------------------------------------------------------------------------------+------------------------------------------------------------------------------------+-----------------------------+----------------+----------------------------+\n",
      "| 0_OnnxConversion-47dd2fb4021343504a3afd23e220842b-dc5fbbbe422d406cc8fcef71d99251a4 | 47dd2fb4021343504a3afd23e220842b                                                   | OnnxConversion              |       59.0696  |                            |\n",
      "+------------------------------------------------------------------------------------+------------------------------------------------------------------------------------+-----------------------------+----------------+----------------------------+\n",
      "| 1_OrtTransformersOptimization-0-ba0868f67849092000c77ac6aa198a82                   | 0_OnnxConversion-47dd2fb4021343504a3afd23e220842b-dc5fbbbe422d406cc8fcef71d99251a4 | OrtTransformersOptimization |       14.4614  |                            |\n",
      "+------------------------------------------------------------------------------------+------------------------------------------------------------------------------------+-----------------------------+----------------+----------------------------+\n",
      "| 2_OnnxDynamicQuantization-1-81443df774677d62399dbb62abc7a493                       | 1_OrtTransformersOptimization-0-ba0868f67849092000c77ac6aa198a82                   | OnnxDynamicQuantization     |       16.3116  |                            |\n",
      "+------------------------------------------------------------------------------------+------------------------------------------------------------------------------------+-----------------------------+----------------+----------------------------+\n",
      "| 3_InsertBeamSearch-2-9e78753aeadd0312db366b611fea387d                              | 2_OnnxDynamicQuantization-1-81443df774677d62399dbb62abc7a493                       | InsertBeamSearch            |        4.94917 |                            |\n",
      "+------------------------------------------------------------------------------------+------------------------------------------------------------------------------------+-----------------------------+----------------+----------------------------+\n",
      "| 4_AppendPrePostProcessingOps-3-d04938d9823a41112ee25a856b571521                    | 3_InsertBeamSearch-2-9e78753aeadd0312db366b611fea387d                              | AppendPrePostProcessingOps  |        1.49775 | {                          |\n",
      "|                                                                                    |                                                                                    |                             |                |   \"latency-avg\": 533.03611 |\n",
      "|                                                                                    |                                                                                    |                             |                | }                          |\n",
      "+------------------------------------------------------------------------------------+------------------------------------------------------------------------------------+-----------------------------+----------------+----------------------------+\n",
      "[2024-01-13 15:48:36,780] [INFO] [engine.py:296:run] No packaging config provided, skip packaging artifacts\n",
      "done.\n"
     ]
    }
   ],
   "source": [
    "!pip install -q -r requirements.txt\n",
    "%run prepare_whisper_configs.py --model_name openai/whisper-tiny.en --no_audio_decoder\n",
    "\n",
    "from olive.workflows import run\n",
    "\n",
    "print(\"setting up olive ...\")\n",
    "run(config='whisper_cpu_int8.json', setup=True)\n",
    "\n",
    "print(\"creating onnx model ...\")\n",
    "run(config='whisper_cpu_int8.json')\n",
    "\n",
    "print(\"done.\")\n"
   ]
  },
  {
   "cell_type": "markdown",
   "metadata": {},
   "source": [
    "# Finetuning Model Test\n",
    "\n",
    "https://huggingface.co/blog/fine-tune-whisper"
   ]
  },
  {
   "cell_type": "code",
   "execution_count": 4,
   "metadata": {},
   "outputs": [
    {
     "name": "stdout",
     "output_type": "stream",
     "text": [
      "\u001b[33mDEPRECATION: Loading egg at /Library/Frameworks/Python.framework/Versions/3.11/lib/python3.11/site-packages/ctc_decoders-1.1-py3.11-macosx-10.9-universal2.egg is deprecated. pip 24.3 will enforce this behaviour change. A possible replacement is to use pip for package installation.. Discussion can be found at https://github.com/pypa/pip/issues/12330\u001b[0m\u001b[33m\n",
      "\u001b[0mRequirement already satisfied: datasets in /Library/Frameworks/Python.framework/Versions/3.11/lib/python3.11/site-packages (2.16.1)\n",
      "Requirement already satisfied: transformers in /Library/Frameworks/Python.framework/Versions/3.11/lib/python3.11/site-packages (4.36.2)\n",
      "Requirement already satisfied: accelerate in /Library/Frameworks/Python.framework/Versions/3.11/lib/python3.11/site-packages (0.26.1)\n",
      "Requirement already satisfied: soundfile in /Library/Frameworks/Python.framework/Versions/3.11/lib/python3.11/site-packages (0.12.1)\n",
      "Requirement already satisfied: librosa in /Library/Frameworks/Python.framework/Versions/3.11/lib/python3.11/site-packages (0.10.1)\n",
      "Requirement already satisfied: evaluate in /Library/Frameworks/Python.framework/Versions/3.11/lib/python3.11/site-packages (0.4.1)\n",
      "Requirement already satisfied: jiwer in /Library/Frameworks/Python.framework/Versions/3.11/lib/python3.11/site-packages (3.0.3)\n",
      "Requirement already satisfied: tensorboard in /Library/Frameworks/Python.framework/Versions/3.11/lib/python3.11/site-packages (2.15.1)\n",
      "Requirement already satisfied: gradio in /Library/Frameworks/Python.framework/Versions/3.11/lib/python3.11/site-packages (4.14.0)\n",
      "Requirement already satisfied: ipywidgets in /Library/Frameworks/Python.framework/Versions/3.11/lib/python3.11/site-packages (8.1.1)\n",
      "Collecting python-dotenv\n",
      "  Downloading python_dotenv-1.0.0-py3-none-any.whl (19 kB)\n",
      "Requirement already satisfied: filelock in /Library/Frameworks/Python.framework/Versions/3.11/lib/python3.11/site-packages (from datasets) (3.13.1)\n",
      "Requirement already satisfied: numpy>=1.17 in /Library/Frameworks/Python.framework/Versions/3.11/lib/python3.11/site-packages (from datasets) (1.26.2)\n",
      "Requirement already satisfied: pyarrow>=8.0.0 in /Library/Frameworks/Python.framework/Versions/3.11/lib/python3.11/site-packages (from datasets) (14.0.2)\n",
      "Requirement already satisfied: pyarrow-hotfix in /Library/Frameworks/Python.framework/Versions/3.11/lib/python3.11/site-packages (from datasets) (0.6)\n",
      "Requirement already satisfied: dill<0.3.8,>=0.3.0 in /Library/Frameworks/Python.framework/Versions/3.11/lib/python3.11/site-packages (from datasets) (0.3.7)\n",
      "Requirement already satisfied: pandas in /Library/Frameworks/Python.framework/Versions/3.11/lib/python3.11/site-packages (from datasets) (2.0.3)\n",
      "Requirement already satisfied: requests>=2.19.0 in /Library/Frameworks/Python.framework/Versions/3.11/lib/python3.11/site-packages (from datasets) (2.31.0)\n",
      "Requirement already satisfied: tqdm>=4.62.1 in /Library/Frameworks/Python.framework/Versions/3.11/lib/python3.11/site-packages (from datasets) (4.66.1)\n",
      "Requirement already satisfied: xxhash in /Library/Frameworks/Python.framework/Versions/3.11/lib/python3.11/site-packages (from datasets) (3.4.1)\n",
      "Requirement already satisfied: multiprocess in /Library/Frameworks/Python.framework/Versions/3.11/lib/python3.11/site-packages (from datasets) (0.70.15)\n",
      "Requirement already satisfied: fsspec<=2023.10.0,>=2023.1.0 in /Library/Frameworks/Python.framework/Versions/3.11/lib/python3.11/site-packages (from fsspec[http]<=2023.10.0,>=2023.1.0->datasets) (2023.10.0)\n",
      "Requirement already satisfied: aiohttp in /Library/Frameworks/Python.framework/Versions/3.11/lib/python3.11/site-packages (from datasets) (3.9.1)\n",
      "Requirement already satisfied: huggingface-hub>=0.19.4 in /Library/Frameworks/Python.framework/Versions/3.11/lib/python3.11/site-packages (from datasets) (0.20.1)\n",
      "Requirement already satisfied: packaging in /Users/dominicfung/Library/Python/3.11/lib/python/site-packages (from datasets) (23.2)\n",
      "Requirement already satisfied: pyyaml>=5.1 in /Library/Frameworks/Python.framework/Versions/3.11/lib/python3.11/site-packages (from datasets) (6.0.1)\n",
      "Requirement already satisfied: regex!=2019.12.17 in /Library/Frameworks/Python.framework/Versions/3.11/lib/python3.11/site-packages (from transformers) (2023.12.25)\n",
      "Requirement already satisfied: tokenizers<0.19,>=0.14 in /Library/Frameworks/Python.framework/Versions/3.11/lib/python3.11/site-packages (from transformers) (0.15.0)\n",
      "Requirement already satisfied: safetensors>=0.3.1 in /Library/Frameworks/Python.framework/Versions/3.11/lib/python3.11/site-packages (from transformers) (0.4.1)\n",
      "Requirement already satisfied: psutil in /Users/dominicfung/Library/Python/3.11/lib/python/site-packages (from accelerate) (5.9.7)\n",
      "Requirement already satisfied: torch>=1.10.0 in /Library/Frameworks/Python.framework/Versions/3.11/lib/python3.11/site-packages (from accelerate) (2.1.2)\n",
      "Requirement already satisfied: cffi>=1.0 in /Library/Frameworks/Python.framework/Versions/3.11/lib/python3.11/site-packages (from soundfile) (1.15.1)\n",
      "Requirement already satisfied: audioread>=2.1.9 in /Library/Frameworks/Python.framework/Versions/3.11/lib/python3.11/site-packages (from librosa) (3.0.1)\n",
      "Requirement already satisfied: scipy>=1.2.0 in /Library/Frameworks/Python.framework/Versions/3.11/lib/python3.11/site-packages (from librosa) (1.11.4)\n",
      "Requirement already satisfied: scikit-learn>=0.20.0 in /Library/Frameworks/Python.framework/Versions/3.11/lib/python3.11/site-packages (from librosa) (1.3.2)\n",
      "Requirement already satisfied: joblib>=0.14 in /Library/Frameworks/Python.framework/Versions/3.11/lib/python3.11/site-packages (from librosa) (1.3.2)\n",
      "Requirement already satisfied: decorator>=4.3.0 in /Users/dominicfung/Library/Python/3.11/lib/python/site-packages (from librosa) (5.1.1)\n",
      "Requirement already satisfied: numba>=0.51.0 in /Library/Frameworks/Python.framework/Versions/3.11/lib/python3.11/site-packages (from librosa) (0.58.1)\n",
      "Requirement already satisfied: pooch>=1.0 in /Library/Frameworks/Python.framework/Versions/3.11/lib/python3.11/site-packages (from librosa) (1.8.0)\n",
      "Requirement already satisfied: soxr>=0.3.2 in /Library/Frameworks/Python.framework/Versions/3.11/lib/python3.11/site-packages (from librosa) (0.3.7)\n",
      "Requirement already satisfied: typing-extensions>=4.1.1 in /Library/Frameworks/Python.framework/Versions/3.11/lib/python3.11/site-packages (from librosa) (4.9.0)\n",
      "Requirement already satisfied: lazy-loader>=0.1 in /Library/Frameworks/Python.framework/Versions/3.11/lib/python3.11/site-packages (from librosa) (0.3)\n",
      "Requirement already satisfied: msgpack>=1.0 in /Library/Frameworks/Python.framework/Versions/3.11/lib/python3.11/site-packages (from librosa) (1.0.7)\n",
      "Requirement already satisfied: responses<0.19 in /Library/Frameworks/Python.framework/Versions/3.11/lib/python3.11/site-packages (from evaluate) (0.18.0)\n",
      "Requirement already satisfied: click<9.0.0,>=8.1.3 in /Library/Frameworks/Python.framework/Versions/3.11/lib/python3.11/site-packages (from jiwer) (8.1.7)\n",
      "Requirement already satisfied: rapidfuzz<4,>=3 in /Library/Frameworks/Python.framework/Versions/3.11/lib/python3.11/site-packages (from jiwer) (3.6.1)\n",
      "Requirement already satisfied: absl-py>=0.4 in /Library/Frameworks/Python.framework/Versions/3.11/lib/python3.11/site-packages (from tensorboard) (2.0.0)\n",
      "Requirement already satisfied: grpcio>=1.48.2 in /Library/Frameworks/Python.framework/Versions/3.11/lib/python3.11/site-packages (from tensorboard) (1.60.0)\n",
      "Requirement already satisfied: google-auth<3,>=1.6.3 in /Library/Frameworks/Python.framework/Versions/3.11/lib/python3.11/site-packages (from tensorboard) (2.26.1)\n",
      "Requirement already satisfied: google-auth-oauthlib<2,>=0.5 in /Library/Frameworks/Python.framework/Versions/3.11/lib/python3.11/site-packages (from tensorboard) (1.2.0)\n",
      "Requirement already satisfied: markdown>=2.6.8 in /Library/Frameworks/Python.framework/Versions/3.11/lib/python3.11/site-packages (from tensorboard) (3.5.1)\n",
      "Requirement already satisfied: protobuf<4.24,>=3.19.6 in /Library/Frameworks/Python.framework/Versions/3.11/lib/python3.11/site-packages (from tensorboard) (3.20.3)\n",
      "Requirement already satisfied: setuptools>=41.0.0 in /Library/Frameworks/Python.framework/Versions/3.11/lib/python3.11/site-packages (from tensorboard) (65.5.0)\n",
      "Requirement already satisfied: six>1.9 in /Users/dominicfung/Library/Python/3.11/lib/python/site-packages (from tensorboard) (1.16.0)\n",
      "Requirement already satisfied: tensorboard-data-server<0.8.0,>=0.7.0 in /Library/Frameworks/Python.framework/Versions/3.11/lib/python3.11/site-packages (from tensorboard) (0.7.2)\n",
      "Requirement already satisfied: werkzeug>=1.0.1 in /Library/Frameworks/Python.framework/Versions/3.11/lib/python3.11/site-packages (from tensorboard) (3.0.1)\n",
      "Requirement already satisfied: aiofiles<24.0,>=22.0 in /Library/Frameworks/Python.framework/Versions/3.11/lib/python3.11/site-packages (from gradio) (23.2.1)\n",
      "Requirement already satisfied: altair<6.0,>=4.2.0 in /Library/Frameworks/Python.framework/Versions/3.11/lib/python3.11/site-packages (from gradio) (5.2.0)\n",
      "Requirement already satisfied: fastapi in /Library/Frameworks/Python.framework/Versions/3.11/lib/python3.11/site-packages (from gradio) (0.108.0)\n",
      "Requirement already satisfied: ffmpy in /Library/Frameworks/Python.framework/Versions/3.11/lib/python3.11/site-packages (from gradio) (0.3.1)\n",
      "Requirement already satisfied: gradio-client==0.8.0 in /Library/Frameworks/Python.framework/Versions/3.11/lib/python3.11/site-packages (from gradio) (0.8.0)\n",
      "Requirement already satisfied: httpx in /Library/Frameworks/Python.framework/Versions/3.11/lib/python3.11/site-packages (from gradio) (0.26.0)\n",
      "Requirement already satisfied: importlib-resources<7.0,>=1.3 in /Library/Frameworks/Python.framework/Versions/3.11/lib/python3.11/site-packages (from gradio) (6.1.1)\n",
      "Requirement already satisfied: jinja2<4.0 in /Library/Frameworks/Python.framework/Versions/3.11/lib/python3.11/site-packages (from gradio) (3.1.2)\n",
      "Requirement already satisfied: markupsafe~=2.0 in /Library/Frameworks/Python.framework/Versions/3.11/lib/python3.11/site-packages (from gradio) (2.1.3)\n",
      "Requirement already satisfied: matplotlib~=3.0 in /Library/Frameworks/Python.framework/Versions/3.11/lib/python3.11/site-packages (from gradio) (3.8.2)\n",
      "Requirement already satisfied: orjson~=3.0 in /Library/Frameworks/Python.framework/Versions/3.11/lib/python3.11/site-packages (from gradio) (3.9.10)\n",
      "Requirement already satisfied: pillow<11.0,>=8.0 in /Library/Frameworks/Python.framework/Versions/3.11/lib/python3.11/site-packages (from gradio) (10.2.0)\n",
      "Requirement already satisfied: pydantic>=2.0 in /Library/Frameworks/Python.framework/Versions/3.11/lib/python3.11/site-packages (from gradio) (2.5.3)\n",
      "Requirement already satisfied: pydub in /Library/Frameworks/Python.framework/Versions/3.11/lib/python3.11/site-packages (from gradio) (0.25.1)\n",
      "Requirement already satisfied: python-multipart in /Library/Frameworks/Python.framework/Versions/3.11/lib/python3.11/site-packages (from gradio) (0.0.6)\n",
      "Requirement already satisfied: semantic-version~=2.0 in /Library/Frameworks/Python.framework/Versions/3.11/lib/python3.11/site-packages (from gradio) (2.10.0)\n",
      "Requirement already satisfied: tomlkit==0.12.0 in /Library/Frameworks/Python.framework/Versions/3.11/lib/python3.11/site-packages (from gradio) (0.12.0)\n",
      "Requirement already satisfied: typer<1.0,>=0.9 in /Library/Frameworks/Python.framework/Versions/3.11/lib/python3.11/site-packages (from typer[all]<1.0,>=0.9->gradio) (0.9.0)\n",
      "Requirement already satisfied: uvicorn>=0.14.0 in /Library/Frameworks/Python.framework/Versions/3.11/lib/python3.11/site-packages (from gradio) (0.25.0)\n",
      "Requirement already satisfied: websockets<12.0,>=10.0 in /Library/Frameworks/Python.framework/Versions/3.11/lib/python3.11/site-packages (from gradio-client==0.8.0->gradio) (11.0.3)\n",
      "Requirement already satisfied: comm>=0.1.3 in /Users/dominicfung/Library/Python/3.11/lib/python/site-packages (from ipywidgets) (0.2.0)\n",
      "Requirement already satisfied: ipython>=6.1.0 in /Users/dominicfung/Library/Python/3.11/lib/python/site-packages (from ipywidgets) (8.19.0)\n",
      "Requirement already satisfied: traitlets>=4.3.1 in /Users/dominicfung/Library/Python/3.11/lib/python/site-packages (from ipywidgets) (5.14.0)\n",
      "Requirement already satisfied: widgetsnbextension~=4.0.9 in /Library/Frameworks/Python.framework/Versions/3.11/lib/python3.11/site-packages (from ipywidgets) (4.0.9)\n",
      "Requirement already satisfied: jupyterlab-widgets~=3.0.9 in /Library/Frameworks/Python.framework/Versions/3.11/lib/python3.11/site-packages (from ipywidgets) (3.0.9)\n",
      "Requirement already satisfied: jsonschema>=3.0 in /Library/Frameworks/Python.framework/Versions/3.11/lib/python3.11/site-packages (from altair<6.0,>=4.2.0->gradio) (4.20.0)\n",
      "Requirement already satisfied: toolz in /Library/Frameworks/Python.framework/Versions/3.11/lib/python3.11/site-packages (from altair<6.0,>=4.2.0->gradio) (0.12.0)\n",
      "Requirement already satisfied: pycparser in /Library/Frameworks/Python.framework/Versions/3.11/lib/python3.11/site-packages (from cffi>=1.0->soundfile) (2.21)\n",
      "Requirement already satisfied: attrs>=17.3.0 in /Library/Frameworks/Python.framework/Versions/3.11/lib/python3.11/site-packages (from aiohttp->datasets) (23.2.0)\n",
      "Requirement already satisfied: multidict<7.0,>=4.5 in /Library/Frameworks/Python.framework/Versions/3.11/lib/python3.11/site-packages (from aiohttp->datasets) (6.0.4)\n",
      "Requirement already satisfied: yarl<2.0,>=1.0 in /Library/Frameworks/Python.framework/Versions/3.11/lib/python3.11/site-packages (from aiohttp->datasets) (1.9.4)\n",
      "Requirement already satisfied: frozenlist>=1.1.1 in /Library/Frameworks/Python.framework/Versions/3.11/lib/python3.11/site-packages (from aiohttp->datasets) (1.4.1)\n",
      "Requirement already satisfied: aiosignal>=1.1.2 in /Library/Frameworks/Python.framework/Versions/3.11/lib/python3.11/site-packages (from aiohttp->datasets) (1.3.1)\n",
      "Requirement already satisfied: cachetools<6.0,>=2.0.0 in /Library/Frameworks/Python.framework/Versions/3.11/lib/python3.11/site-packages (from google-auth<3,>=1.6.3->tensorboard) (5.3.2)\n",
      "Requirement already satisfied: pyasn1-modules>=0.2.1 in /Library/Frameworks/Python.framework/Versions/3.11/lib/python3.11/site-packages (from google-auth<3,>=1.6.3->tensorboard) (0.3.0)\n",
      "Requirement already satisfied: rsa<5,>=3.1.4 in /Library/Frameworks/Python.framework/Versions/3.11/lib/python3.11/site-packages (from google-auth<3,>=1.6.3->tensorboard) (4.9)\n",
      "Requirement already satisfied: requests-oauthlib>=0.7.0 in /Library/Frameworks/Python.framework/Versions/3.11/lib/python3.11/site-packages (from google-auth-oauthlib<2,>=0.5->tensorboard) (1.3.1)\n",
      "Requirement already satisfied: jedi>=0.16 in /Users/dominicfung/Library/Python/3.11/lib/python/site-packages (from ipython>=6.1.0->ipywidgets) (0.19.1)\n",
      "Requirement already satisfied: matplotlib-inline in /Users/dominicfung/Library/Python/3.11/lib/python/site-packages (from ipython>=6.1.0->ipywidgets) (0.1.6)\n",
      "Requirement already satisfied: prompt-toolkit<3.1.0,>=3.0.41 in /Users/dominicfung/Library/Python/3.11/lib/python/site-packages (from ipython>=6.1.0->ipywidgets) (3.0.43)\n",
      "Requirement already satisfied: pygments>=2.4.0 in /Users/dominicfung/Library/Python/3.11/lib/python/site-packages (from ipython>=6.1.0->ipywidgets) (2.17.2)\n",
      "Requirement already satisfied: stack-data in /Users/dominicfung/Library/Python/3.11/lib/python/site-packages (from ipython>=6.1.0->ipywidgets) (0.6.3)\n",
      "Requirement already satisfied: pexpect>4.3 in /Users/dominicfung/Library/Python/3.11/lib/python/site-packages (from ipython>=6.1.0->ipywidgets) (4.9.0)\n",
      "Requirement already satisfied: contourpy>=1.0.1 in /Library/Frameworks/Python.framework/Versions/3.11/lib/python3.11/site-packages (from matplotlib~=3.0->gradio) (1.2.0)\n",
      "Requirement already satisfied: cycler>=0.10 in /Library/Frameworks/Python.framework/Versions/3.11/lib/python3.11/site-packages (from matplotlib~=3.0->gradio) (0.12.1)\n",
      "Requirement already satisfied: fonttools>=4.22.0 in /Library/Frameworks/Python.framework/Versions/3.11/lib/python3.11/site-packages (from matplotlib~=3.0->gradio) (4.47.0)\n",
      "Requirement already satisfied: kiwisolver>=1.3.1 in /Library/Frameworks/Python.framework/Versions/3.11/lib/python3.11/site-packages (from matplotlib~=3.0->gradio) (1.4.5)\n",
      "Requirement already satisfied: pyparsing>=2.3.1 in /Library/Frameworks/Python.framework/Versions/3.11/lib/python3.11/site-packages (from matplotlib~=3.0->gradio) (2.4.7)\n",
      "Requirement already satisfied: python-dateutil>=2.7 in /Users/dominicfung/Library/Python/3.11/lib/python/site-packages (from matplotlib~=3.0->gradio) (2.8.2)\n",
      "Requirement already satisfied: llvmlite<0.42,>=0.41.0dev0 in /Library/Frameworks/Python.framework/Versions/3.11/lib/python3.11/site-packages (from numba>=0.51.0->librosa) (0.41.1)\n",
      "Requirement already satisfied: pytz>=2020.1 in /Library/Frameworks/Python.framework/Versions/3.11/lib/python3.11/site-packages (from pandas->datasets) (2023.3.post1)\n",
      "Requirement already satisfied: tzdata>=2022.1 in /Library/Frameworks/Python.framework/Versions/3.11/lib/python3.11/site-packages (from pandas->datasets) (2023.4)\n",
      "Requirement already satisfied: platformdirs>=2.5.0 in /Users/dominicfung/Library/Python/3.11/lib/python/site-packages (from pooch>=1.0->librosa) (4.1.0)\n",
      "Requirement already satisfied: annotated-types>=0.4.0 in /Library/Frameworks/Python.framework/Versions/3.11/lib/python3.11/site-packages (from pydantic>=2.0->gradio) (0.6.0)\n",
      "Requirement already satisfied: pydantic-core==2.14.6 in /Library/Frameworks/Python.framework/Versions/3.11/lib/python3.11/site-packages (from pydantic>=2.0->gradio) (2.14.6)\n",
      "Requirement already satisfied: charset-normalizer<4,>=2 in /Library/Frameworks/Python.framework/Versions/3.11/lib/python3.11/site-packages (from requests>=2.19.0->datasets) (3.3.2)\n",
      "Requirement already satisfied: idna<4,>=2.5 in /Library/Frameworks/Python.framework/Versions/3.11/lib/python3.11/site-packages (from requests>=2.19.0->datasets) (3.6)\n",
      "Requirement already satisfied: urllib3<3,>=1.21.1 in /Library/Frameworks/Python.framework/Versions/3.11/lib/python3.11/site-packages (from requests>=2.19.0->datasets) (2.1.0)\n",
      "Requirement already satisfied: certifi>=2017.4.17 in /Library/Frameworks/Python.framework/Versions/3.11/lib/python3.11/site-packages (from requests>=2.19.0->datasets) (2023.11.17)\n",
      "Requirement already satisfied: threadpoolctl>=2.0.0 in /Library/Frameworks/Python.framework/Versions/3.11/lib/python3.11/site-packages (from scikit-learn>=0.20.0->librosa) (3.2.0)\n",
      "Requirement already satisfied: sympy in /Library/Frameworks/Python.framework/Versions/3.11/lib/python3.11/site-packages (from torch>=1.10.0->accelerate) (1.12)\n",
      "Requirement already satisfied: networkx in /Library/Frameworks/Python.framework/Versions/3.11/lib/python3.11/site-packages (from torch>=1.10.0->accelerate) (2.8.2)\n",
      "Requirement already satisfied: colorama<0.5.0,>=0.4.3 in /Library/Frameworks/Python.framework/Versions/3.11/lib/python3.11/site-packages (from typer[all]<1.0,>=0.9->gradio) (0.4.6)\n",
      "Requirement already satisfied: shellingham<2.0.0,>=1.3.0 in /Library/Frameworks/Python.framework/Versions/3.11/lib/python3.11/site-packages (from typer[all]<1.0,>=0.9->gradio) (1.5.4)\n",
      "Requirement already satisfied: rich<14.0.0,>=10.11.0 in /Library/Frameworks/Python.framework/Versions/3.11/lib/python3.11/site-packages (from typer[all]<1.0,>=0.9->gradio) (13.7.0)\n",
      "Requirement already satisfied: h11>=0.8 in /Library/Frameworks/Python.framework/Versions/3.11/lib/python3.11/site-packages (from uvicorn>=0.14.0->gradio) (0.14.0)\n",
      "Requirement already satisfied: starlette<0.33.0,>=0.29.0 in /Library/Frameworks/Python.framework/Versions/3.11/lib/python3.11/site-packages (from fastapi->gradio) (0.32.0.post1)\n",
      "Requirement already satisfied: anyio in /Library/Frameworks/Python.framework/Versions/3.11/lib/python3.11/site-packages (from httpx->gradio) (4.2.0)\n",
      "Requirement already satisfied: httpcore==1.* in /Library/Frameworks/Python.framework/Versions/3.11/lib/python3.11/site-packages (from httpx->gradio) (1.0.2)\n",
      "Requirement already satisfied: sniffio in /Library/Frameworks/Python.framework/Versions/3.11/lib/python3.11/site-packages (from httpx->gradio) (1.3.0)\n",
      "Requirement already satisfied: parso<0.9.0,>=0.8.3 in /Users/dominicfung/Library/Python/3.11/lib/python/site-packages (from jedi>=0.16->ipython>=6.1.0->ipywidgets) (0.8.3)\n",
      "Requirement already satisfied: jsonschema-specifications>=2023.03.6 in /Library/Frameworks/Python.framework/Versions/3.11/lib/python3.11/site-packages (from jsonschema>=3.0->altair<6.0,>=4.2.0->gradio) (2023.12.1)\n",
      "Requirement already satisfied: referencing>=0.28.4 in /Library/Frameworks/Python.framework/Versions/3.11/lib/python3.11/site-packages (from jsonschema>=3.0->altair<6.0,>=4.2.0->gradio) (0.32.1)\n",
      "Requirement already satisfied: rpds-py>=0.7.1 in /Library/Frameworks/Python.framework/Versions/3.11/lib/python3.11/site-packages (from jsonschema>=3.0->altair<6.0,>=4.2.0->gradio) (0.16.2)\n",
      "Requirement already satisfied: ptyprocess>=0.5 in /Users/dominicfung/Library/Python/3.11/lib/python/site-packages (from pexpect>4.3->ipython>=6.1.0->ipywidgets) (0.7.0)\n",
      "Requirement already satisfied: wcwidth in /Users/dominicfung/Library/Python/3.11/lib/python/site-packages (from prompt-toolkit<3.1.0,>=3.0.41->ipython>=6.1.0->ipywidgets) (0.2.12)\n",
      "Requirement already satisfied: pyasn1<0.6.0,>=0.4.6 in /Library/Frameworks/Python.framework/Versions/3.11/lib/python3.11/site-packages (from pyasn1-modules>=0.2.1->google-auth<3,>=1.6.3->tensorboard) (0.5.1)\n",
      "Requirement already satisfied: oauthlib>=3.0.0 in /Library/Frameworks/Python.framework/Versions/3.11/lib/python3.11/site-packages (from requests-oauthlib>=0.7.0->google-auth-oauthlib<2,>=0.5->tensorboard) (3.2.2)\n",
      "Requirement already satisfied: markdown-it-py>=2.2.0 in /Library/Frameworks/Python.framework/Versions/3.11/lib/python3.11/site-packages (from rich<14.0.0,>=10.11.0->typer[all]<1.0,>=0.9->gradio) (3.0.0)\n",
      "Requirement already satisfied: executing>=1.2.0 in /Users/dominicfung/Library/Python/3.11/lib/python/site-packages (from stack-data->ipython>=6.1.0->ipywidgets) (2.0.1)\n",
      "Requirement already satisfied: asttokens>=2.1.0 in /Users/dominicfung/Library/Python/3.11/lib/python/site-packages (from stack-data->ipython>=6.1.0->ipywidgets) (2.4.1)\n",
      "Requirement already satisfied: pure-eval in /Users/dominicfung/Library/Python/3.11/lib/python/site-packages (from stack-data->ipython>=6.1.0->ipywidgets) (0.2.2)\n",
      "Requirement already satisfied: mpmath>=0.19 in /Library/Frameworks/Python.framework/Versions/3.11/lib/python3.11/site-packages (from sympy->torch>=1.10.0->accelerate) (1.3.0)\n",
      "Requirement already satisfied: mdurl~=0.1 in /Library/Frameworks/Python.framework/Versions/3.11/lib/python3.11/site-packages (from markdown-it-py>=2.2.0->rich<14.0.0,>=10.11.0->typer[all]<1.0,>=0.9->gradio) (0.1.2)\n",
      "Installing collected packages: python-dotenv\n",
      "Successfully installed python-dotenv-1.0.0\n",
      "Token will not been saved to git credential helper. Pass `add_to_git_credential=True` if you want to set the git credential as well.\n",
      "Token is valid (permission: read).\n",
      "Your token has been saved to /Users/dominicfung/.cache/huggingface/token\n",
      "Login successful\n"
     ]
    }
   ],
   "source": [
    "!pip install datasets transformers accelerate soundfile librosa evaluate jiwer tensorboard gradio ipywidgets python-dotenv\n",
    "\n",
    "import os\n",
    "from dotenv import load_dotenv\n",
    "from huggingface_hub import login\n",
    "\n",
    "load_dotenv()\n",
    "\n",
    "login(token=os.getenv(\"HF_TOKEN\"))"
   ]
  },
  {
   "cell_type": "code",
   "execution_count": 3,
   "metadata": {},
   "outputs": [
    {
     "name": "stderr",
     "output_type": "stream",
     "text": [
      "/Library/Frameworks/Python.framework/Versions/3.11/lib/python3.11/site-packages/datasets/load.py:2483: FutureWarning: 'use_auth_token' was deprecated in favor of 'token' in version 2.14.0 and will be removed in 3.0.0.\n",
      "You can remove this warning by passing 'token=<use_auth_token>' instead.\n",
      "  warnings.warn(\n",
      "/Library/Frameworks/Python.framework/Versions/3.11/lib/python3.11/site-packages/datasets/load.py:1429: FutureWarning: The repository for mozilla-foundation/common_voice_11_0 contains custom code which must be executed to correctly load the dataset. You can inspect the repository content at https://hf.co/datasets/mozilla-foundation/common_voice_11_0\n",
      "You can avoid this message in future by passing the argument `trust_remote_code=True`.\n",
      "Passing `trust_remote_code=True` will be mandatory to load this dataset from the next major release of `datasets`.\n",
      "  warnings.warn(\n",
      "/Library/Frameworks/Python.framework/Versions/3.11/lib/python3.11/site-packages/datasets/load.py:2483: FutureWarning: 'use_auth_token' was deprecated in favor of 'token' in version 2.14.0 and will be removed in 3.0.0.\n",
      "You can remove this warning by passing 'token=<use_auth_token>' instead.\n",
      "  warnings.warn(\n",
      "/Library/Frameworks/Python.framework/Versions/3.11/lib/python3.11/site-packages/datasets/load.py:1429: FutureWarning: The repository for mozilla-foundation/common_voice_11_0 contains custom code which must be executed to correctly load the dataset. You can inspect the repository content at https://hf.co/datasets/mozilla-foundation/common_voice_11_0\n",
      "You can avoid this message in future by passing the argument `trust_remote_code=True`.\n",
      "Passing `trust_remote_code=True` will be mandatory to load this dataset from the next major release of `datasets`.\n",
      "  warnings.warn(\n"
     ]
    },
    {
     "name": "stdout",
     "output_type": "stream",
     "text": [
      "DatasetDict({\n",
      "    train: Dataset({\n",
      "        features: ['client_id', 'path', 'audio', 'sentence', 'up_votes', 'down_votes', 'age', 'gender', 'accent', 'locale', 'segment'],\n",
      "        num_rows: 6540\n",
      "    })\n",
      "    test: Dataset({\n",
      "        features: ['client_id', 'path', 'audio', 'sentence', 'up_votes', 'down_votes', 'age', 'gender', 'accent', 'locale', 'segment'],\n",
      "        num_rows: 2894\n",
      "    })\n",
      "})\n"
     ]
    }
   ],
   "source": [
    "from datasets import load_dataset, DatasetDict\n",
    "\n",
    "common_voice = DatasetDict()\n",
    "\n",
    "common_voice[\"train\"] = load_dataset(\"mozilla-foundation/common_voice_11_0\", \"hi\", split=\"train+validation\", use_auth_token=True)\n",
    "common_voice[\"test\"] = load_dataset(\"mozilla-foundation/common_voice_11_0\", \"hi\", split=\"test\", use_auth_token=True)\n",
    "\n",
    "print(common_voice)"
   ]
  },
  {
   "cell_type": "code",
   "execution_count": 14,
   "metadata": {},
   "outputs": [
    {
     "data": {
      "application/vnd.jupyter.widget-view+json": {
       "model_id": "0289ac0f3060487b93f935e48d1f36ad",
       "version_major": 2,
       "version_minor": 0
      },
      "text/plain": [
       "config.json:   0%|          | 0.00/1.98k [00:00<?, ?B/s]"
      ]
     },
     "metadata": {},
     "output_type": "display_data"
    },
    {
     "data": {
      "application/vnd.jupyter.widget-view+json": {
       "model_id": "f95a67d078d34154999eda5e0577654b",
       "version_major": 2,
       "version_minor": 0
      },
      "text/plain": [
       "model.safetensors:   0%|          | 0.00/151M [00:00<?, ?B/s]"
      ]
     },
     "metadata": {},
     "output_type": "display_data"
    },
    {
     "data": {
      "application/vnd.jupyter.widget-view+json": {
       "model_id": "79f34aa3629e4e428f2da5db47631478",
       "version_major": 2,
       "version_minor": 0
      },
      "text/plain": [
       "generation_config.json:   0%|          | 0.00/3.72k [00:00<?, ?B/s]"
      ]
     },
     "metadata": {},
     "output_type": "display_data"
    }
   ],
   "source": [
    "from transformers import WhisperFeatureExtractor, WhisperTokenizer, WhisperProcessor, WhisperForConditionalGeneration\n",
    "\n",
    "tokenizer = WhisperTokenizer.from_pretrained(\"openai/whisper-tiny\", language=\"Hindi\", task=\"transcribe\")\n",
    "feature_extractor = WhisperFeatureExtractor.from_pretrained(\"openai/whisper-tiny\")\n",
    "processor = WhisperProcessor.from_pretrained(\"openai/whisper-tiny\", language=\"Hindi\", task=\"transcribe\")\n",
    "model = WhisperForConditionalGeneration.from_pretrained(\"openai/whisper-tiny\")"
   ]
  },
  {
   "cell_type": "code",
   "execution_count": 6,
   "metadata": {},
   "outputs": [
    {
     "name": "stderr",
     "output_type": "stream",
     "text": [
      "2024-01-14 20:42:56.585882: I tensorflow/core/platform/cpu_feature_guard.cc:182] This TensorFlow binary is optimized to use available CPU instructions in performance-critical operations.\n",
      "To enable the following instructions: AVX2 FMA, in other operations, rebuild TensorFlow with the appropriate compiler flags.\n"
     ]
    },
    {
     "name": "stdout",
     "output_type": "stream",
     "text": [
      "Input:                 हमने उसका जन्मदिन मनाया।\n",
      "Decoded w/ special:    <|startoftranscript|><|hi|><|transcribe|><|notimestamps|>हमने उसका जन्मदिन मनाया।<|endoftext|>\n",
      "Decoded w/out special: हमने उसका जन्मदिन मनाया।\n",
      "Are equal:             True\n"
     ]
    }
   ],
   "source": [
    "input_str = common_voice[\"train\"][0][\"sentence\"]\n",
    "labels = tokenizer(input_str).input_ids\n",
    "decoded_with_special = tokenizer.decode(labels, skip_special_tokens=False)\n",
    "decoded_str = tokenizer.decode(labels, skip_special_tokens=True)\n",
    "\n",
    "print(f\"Input:                 {input_str}\")\n",
    "print(f\"Decoded w/ special:    {decoded_with_special}\")\n",
    "print(f\"Decoded w/out special: {decoded_str}\")\n",
    "print(f\"Are equal:             {input_str == decoded_str}\")"
   ]
  },
  {
   "cell_type": "code",
   "execution_count": 7,
   "metadata": {},
   "outputs": [
    {
     "name": "stdout",
     "output_type": "stream",
     "text": [
      "{'client_id': '0f018a99663f33afbb7d38aee281fb1afcfd07f9e7acd00383f604e1e17c38d6ed8adf1bd2ccbf927a52c5adefb8ac4b158ce27a7c2ed9581e71202eb302dfb3', 'path': '/Users/dominicfung/.cache/huggingface/datasets/downloads/extracted/7a3e74892c1a195481f04e85cf7e92515c18f8cb5ce6eff894a164125fee46e4/hi_train_0/common_voice_hi_26008353.mp3', 'audio': {'path': '/Users/dominicfung/.cache/huggingface/datasets/downloads/extracted/7a3e74892c1a195481f04e85cf7e92515c18f8cb5ce6eff894a164125fee46e4/hi_train_0/common_voice_hi_26008353.mp3', 'array': array([ 7.10858339e-26, -1.42171668e-25, -8.07793567e-26, ...,\n",
      "        1.08681638e-02,  1.14741530e-02,  6.90135127e-03]), 'sampling_rate': 48000}, 'sentence': 'हमने उसका जन्मदिन मनाया।', 'up_votes': 2, 'down_votes': 0, 'age': '', 'gender': '', 'accent': '', 'locale': 'hi', 'segment': ''}\n"
     ]
    }
   ],
   "source": [
    "print(common_voice[\"train\"][0])"
   ]
  },
  {
   "cell_type": "code",
   "execution_count": 8,
   "metadata": {},
   "outputs": [
    {
     "name": "stdout",
     "output_type": "stream",
     "text": [
      "{'client_id': '0f018a99663f33afbb7d38aee281fb1afcfd07f9e7acd00383f604e1e17c38d6ed8adf1bd2ccbf927a52c5adefb8ac4b158ce27a7c2ed9581e71202eb302dfb3', 'path': '/Users/dominicfung/.cache/huggingface/datasets/downloads/extracted/7a3e74892c1a195481f04e85cf7e92515c18f8cb5ce6eff894a164125fee46e4/hi_train_0/common_voice_hi_26008353.mp3', 'audio': {'path': '/Users/dominicfung/.cache/huggingface/datasets/downloads/extracted/7a3e74892c1a195481f04e85cf7e92515c18f8cb5ce6eff894a164125fee46e4/hi_train_0/common_voice_hi_26008353.mp3', 'array': array([ 5.98479599e-17,  3.12250226e-17, -1.04083409e-17, ...,\n",
      "        1.46341482e-02,  1.17793111e-02,  1.12842089e-02]), 'sampling_rate': 16000}, 'sentence': 'हमने उसका जन्मदिन मनाया।', 'up_votes': 2, 'down_votes': 0, 'age': '', 'gender': '', 'accent': '', 'locale': 'hi', 'segment': ''}\n"
     ]
    }
   ],
   "source": [
    "from datasets import Audio\n",
    "\n",
    "common_voice = common_voice.cast_column(\"audio\", Audio(sampling_rate=16000))\n",
    "print(common_voice[\"train\"][0])"
   ]
  },
  {
   "cell_type": "code",
   "execution_count": 9,
   "metadata": {},
   "outputs": [
    {
     "data": {
      "application/vnd.jupyter.widget-view+json": {
       "model_id": "01a5711237aa459680b2d65dadd4b341",
       "version_major": 2,
       "version_minor": 0
      },
      "text/plain": [
       "Map (num_proc=4):   0%|          | 0/6540 [00:00<?, ? examples/s]"
      ]
     },
     "metadata": {},
     "output_type": "display_data"
    },
    {
     "data": {
      "application/vnd.jupyter.widget-view+json": {
       "model_id": "ad8ee13f94e54283a0193d1ceebb00b1",
       "version_major": 2,
       "version_minor": 0
      },
      "text/plain": [
       "Map (num_proc=4):   0%|          | 0/2894 [00:00<?, ? examples/s]"
      ]
     },
     "metadata": {},
     "output_type": "display_data"
    }
   ],
   "source": [
    "def prepare_dataset(batch):\n",
    "    # load and resample audio data from 48 to 16kHz\n",
    "    audio = batch[\"audio\"]\n",
    "\n",
    "    # compute log-Mel input features from input audio array \n",
    "    batch[\"input_features\"] = feature_extractor(audio[\"array\"], sampling_rate=audio[\"sampling_rate\"]).input_features[0]\n",
    "\n",
    "    # encode target text to label ids \n",
    "    batch[\"labels\"] = tokenizer(batch[\"sentence\"]).input_ids\n",
    "    return batch\n",
    "\n",
    "common_voice = common_voice.map(prepare_dataset, remove_columns=common_voice.column_names[\"train\"], num_proc=4)\n"
   ]
  },
  {
   "cell_type": "code",
   "execution_count": 13,
   "metadata": {},
   "outputs": [],
   "source": [
    "import torch\n",
    "\n",
    "from dataclasses import dataclass\n",
    "from typing import Any, Dict, List, Union\n",
    "\n",
    "@dataclass\n",
    "class DataCollatorSpeechSeq2SeqWithPadding:\n",
    "    processor: Any\n",
    "\n",
    "    def __call__(self, features: List[Dict[str, Union[List[int], torch.Tensor]]]) -> Dict[str, torch.Tensor]:\n",
    "        # split inputs and labels since they have to be of different lengths and need different padding methods\n",
    "        # first treat the audio inputs by simply returning torch tensors\n",
    "        input_features = [{\"input_features\": feature[\"input_features\"]} for feature in features]\n",
    "        batch = self.processor.feature_extractor.pad(input_features, return_tensors=\"pt\")\n",
    "\n",
    "        # get the tokenized label sequences\n",
    "        label_features = [{\"input_ids\": feature[\"labels\"]} for feature in features]\n",
    "        # pad the labels to max length\n",
    "        labels_batch = self.processor.tokenizer.pad(label_features, return_tensors=\"pt\")\n",
    "\n",
    "        # replace padding with -100 to ignore loss correctly\n",
    "        labels = labels_batch[\"input_ids\"].masked_fill(labels_batch.attention_mask.ne(1), -100)\n",
    "\n",
    "        # if bos token is appended in previous tokenization step,\n",
    "        # cut bos token here as it's append later anyways\n",
    "        if (labels[:, 0] == self.processor.tokenizer.bos_token_id).all().cpu().item():\n",
    "            labels = labels[:, 1:]\n",
    "\n",
    "        batch[\"labels\"] = labels\n",
    "\n",
    "        return batch\n",
    "    \n",
    "data_collator = DataCollatorSpeechSeq2SeqWithPadding(processor=processor)"
   ]
  },
  {
   "cell_type": "code",
   "execution_count": 19,
   "metadata": {},
   "outputs": [
    {
     "data": {
      "application/vnd.jupyter.widget-view+json": {
       "model_id": "83a214570beb45649a523c39608d1619",
       "version_major": 2,
       "version_minor": 0
      },
      "text/plain": [
       "Downloading builder script:   0%|          | 0.00/4.49k [00:00<?, ?B/s]"
      ]
     },
     "metadata": {},
     "output_type": "display_data"
    }
   ],
   "source": [
    "import evaluate\n",
    "\n",
    "metric = evaluate.load(\"wer\")\n",
    "\n",
    "def compute_metrics(pred):\n",
    "    pred_ids = pred.predictions\n",
    "    label_ids = pred.label_ids\n",
    "\n",
    "    # replace -100 with the pad_token_id\n",
    "    label_ids[label_ids == -100] = tokenizer.pad_token_id\n",
    "\n",
    "    # we do not want to group tokens when computing the metrics\n",
    "    pred_str = tokenizer.batch_decode(pred_ids, skip_special_tokens=True)\n",
    "    label_str = tokenizer.batch_decode(label_ids, skip_special_tokens=True)\n",
    "\n",
    "    wer = 100 * metric.compute(predictions=pred_str, references=label_str)\n",
    "\n",
    "    return {\"wer\": wer}"
   ]
  },
  {
   "cell_type": "code",
   "execution_count": 17,
   "metadata": {},
   "outputs": [],
   "source": [
    "from transformers import Seq2SeqTrainingArguments\n",
    "\n",
    "model.config.forced_decoder_ids = None\n",
    "model.config.suppress_tokens = []\n",
    "\n",
    "training_args = Seq2SeqTrainingArguments(\n",
    "    output_dir=\"./whisper-tiny-hindi-v1-test\",  # change to a repo name of your choice\n",
    "    per_device_train_batch_size=16,\n",
    "    gradient_accumulation_steps=1,  # increase by 2x for every 2x decrease in batch size\n",
    "    learning_rate=1e-5,\n",
    "    warmup_steps=500,\n",
    "    max_steps=4000,\n",
    "    gradient_checkpointing=True,\n",
    "    fp16=False, # CHANGE THIS TO TRUE IF YOU HAVE A GPU MACHINE. DOM HAS AN OLD MAC FOR NOW.\n",
    "    evaluation_strategy=\"steps\",\n",
    "    per_device_eval_batch_size=8,\n",
    "    predict_with_generate=True,\n",
    "    generation_max_length=225,\n",
    "    save_steps=1000,\n",
    "    eval_steps=1000,\n",
    "    logging_steps=25,\n",
    "    report_to=[\"tensorboard\"],\n",
    "    load_best_model_at_end=True,\n",
    "    metric_for_best_model=\"wer\",\n",
    "    greater_is_better=False,\n",
    "    push_to_hub=False,\n",
    ")"
   ]
  },
  {
   "cell_type": "code",
   "execution_count": 20,
   "metadata": {},
   "outputs": [
    {
     "data": {
      "application/vnd.jupyter.widget-view+json": {
       "model_id": "65bdd27cc6a04285a8feabaa9ac3e98a",
       "version_major": 2,
       "version_minor": 0
      },
      "text/plain": [
       "  0%|          | 0/4000 [00:00<?, ?it/s]"
      ]
     },
     "metadata": {},
     "output_type": "display_data"
    },
    {
     "name": "stderr",
     "output_type": "stream",
     "text": [
      "/Library/Frameworks/Python.framework/Versions/3.11/lib/python3.11/site-packages/torch/utils/checkpoint.py:429: UserWarning: torch.utils.checkpoint: please pass in use_reentrant=True or use_reentrant=False explicitly. The default value of use_reentrant will be updated to be False in the future. To maintain current behavior, pass use_reentrant=True. It is recommended that you use use_reentrant=False. Refer to docs for more details on the differences between the two variants.\n",
      "  warnings.warn(\n",
      "`use_cache = True` is incompatible with gradient checkpointing. Setting `use_cache = False`...\n"
     ]
    },
    {
     "name": "stdout",
     "output_type": "stream",
     "text": [
      "{'loss': 3.8891, 'learning_rate': 5.000000000000001e-07, 'epoch': 0.06}\n",
      "{'loss': 3.0894, 'learning_rate': 1.0000000000000002e-06, 'epoch': 0.12}\n",
      "{'loss': 2.3334, 'learning_rate': 1.5e-06, 'epoch': 0.18}\n",
      "{'loss': 1.8321, 'learning_rate': 2.0000000000000003e-06, 'epoch': 0.24}\n",
      "{'loss': 1.4444, 'learning_rate': 2.5e-06, 'epoch': 0.31}\n",
      "{'loss': 1.2733, 'learning_rate': 3e-06, 'epoch': 0.37}\n",
      "{'loss': 1.1012, 'learning_rate': 3.5e-06, 'epoch': 0.43}\n",
      "{'loss': 0.9712, 'learning_rate': 4.000000000000001e-06, 'epoch': 0.49}\n",
      "{'loss': 0.8883, 'learning_rate': 4.5e-06, 'epoch': 0.55}\n",
      "{'loss': 0.7696, 'learning_rate': 5e-06, 'epoch': 0.61}\n",
      "{'loss': 0.7121, 'learning_rate': 5.500000000000001e-06, 'epoch': 0.67}\n",
      "{'loss': 0.6918, 'learning_rate': 6e-06, 'epoch': 0.73}\n",
      "{'loss': 0.6506, 'learning_rate': 6.5000000000000004e-06, 'epoch': 0.79}\n",
      "{'loss': 0.6289, 'learning_rate': 7e-06, 'epoch': 0.86}\n",
      "{'loss': 0.5909, 'learning_rate': 7.500000000000001e-06, 'epoch': 0.92}\n",
      "{'loss': 0.5888, 'learning_rate': 8.000000000000001e-06, 'epoch': 0.98}\n",
      "{'loss': 0.5398, 'learning_rate': 8.5e-06, 'epoch': 1.04}\n",
      "{'loss': 0.4969, 'learning_rate': 9e-06, 'epoch': 1.1}\n",
      "{'loss': 0.4876, 'learning_rate': 9.5e-06, 'epoch': 1.16}\n",
      "{'loss': 0.4633, 'learning_rate': 1e-05, 'epoch': 1.22}\n",
      "{'loss': 0.4612, 'learning_rate': 9.92857142857143e-06, 'epoch': 1.28}\n",
      "{'loss': 0.4609, 'learning_rate': 9.857142857142859e-06, 'epoch': 1.34}\n",
      "{'loss': 0.4479, 'learning_rate': 9.785714285714286e-06, 'epoch': 1.41}\n",
      "{'loss': 0.4241, 'learning_rate': 9.714285714285715e-06, 'epoch': 1.47}\n",
      "{'loss': 0.4389, 'learning_rate': 9.642857142857144e-06, 'epoch': 1.53}\n",
      "{'loss': 0.4197, 'learning_rate': 9.571428571428573e-06, 'epoch': 1.59}\n",
      "{'loss': 0.4081, 'learning_rate': 9.5e-06, 'epoch': 1.65}\n",
      "{'loss': 0.3976, 'learning_rate': 9.42857142857143e-06, 'epoch': 1.71}\n",
      "{'loss': 0.4055, 'learning_rate': 9.357142857142859e-06, 'epoch': 1.77}\n",
      "{'loss': 0.4074, 'learning_rate': 9.285714285714288e-06, 'epoch': 1.83}\n",
      "{'loss': 0.385, 'learning_rate': 9.214285714285715e-06, 'epoch': 1.89}\n",
      "{'loss': 0.3859, 'learning_rate': 9.142857142857144e-06, 'epoch': 1.96}\n",
      "{'loss': 0.3585, 'learning_rate': 9.071428571428573e-06, 'epoch': 2.02}\n",
      "{'loss': 0.3338, 'learning_rate': 9e-06, 'epoch': 2.08}\n",
      "{'loss': 0.3232, 'learning_rate': 8.92857142857143e-06, 'epoch': 2.14}\n",
      "{'loss': 0.3218, 'learning_rate': 8.857142857142858e-06, 'epoch': 2.2}\n",
      "{'loss': 0.3116, 'learning_rate': 8.785714285714286e-06, 'epoch': 2.26}\n",
      "{'loss': 0.3018, 'learning_rate': 8.714285714285715e-06, 'epoch': 2.32}\n",
      "{'loss': 0.313, 'learning_rate': 8.642857142857144e-06, 'epoch': 2.38}\n",
      "{'loss': 0.2953, 'learning_rate': 8.571428571428571e-06, 'epoch': 2.44}\n"
     ]
    },
    {
     "data": {
      "application/vnd.jupyter.widget-view+json": {
       "model_id": "b0c553f880eb4170946fb9c833d8fe7d",
       "version_major": 2,
       "version_minor": 0
      },
      "text/plain": [
       "  0%|          | 0/362 [00:00<?, ?it/s]"
      ]
     },
     "metadata": {},
     "output_type": "display_data"
    },
    {
     "name": "stdout",
     "output_type": "stream",
     "text": [
      "{'eval_loss': 0.5329092741012573, 'eval_wer': 68.34842969609753, 'eval_runtime': 4230.3192, 'eval_samples_per_second': 0.684, 'eval_steps_per_second': 0.086, 'epoch': 2.44}\n"
     ]
    },
    {
     "name": "stderr",
     "output_type": "stream",
     "text": [
      "/Library/Frameworks/Python.framework/Versions/3.11/lib/python3.11/site-packages/torch/utils/checkpoint.py:429: UserWarning: torch.utils.checkpoint: please pass in use_reentrant=True or use_reentrant=False explicitly. The default value of use_reentrant will be updated to be False in the future. To maintain current behavior, pass use_reentrant=True. It is recommended that you use use_reentrant=False. Refer to docs for more details on the differences between the two variants.\n",
      "  warnings.warn(\n"
     ]
    },
    {
     "name": "stdout",
     "output_type": "stream",
     "text": [
      "{'loss': 0.3068, 'learning_rate': 8.5e-06, 'epoch': 2.51}\n",
      "{'loss': 0.3015, 'learning_rate': 8.428571428571429e-06, 'epoch': 2.57}\n",
      "{'loss': 0.2935, 'learning_rate': 8.357142857142858e-06, 'epoch': 2.63}\n",
      "{'loss': 0.3027, 'learning_rate': 8.285714285714287e-06, 'epoch': 2.69}\n",
      "{'loss': 0.2944, 'learning_rate': 8.214285714285714e-06, 'epoch': 2.75}\n",
      "{'loss': 0.2906, 'learning_rate': 8.142857142857143e-06, 'epoch': 2.81}\n",
      "{'loss': 0.2859, 'learning_rate': 8.071428571428572e-06, 'epoch': 2.87}\n",
      "{'loss': 0.3036, 'learning_rate': 8.000000000000001e-06, 'epoch': 2.93}\n",
      "{'loss': 0.2842, 'learning_rate': 7.928571428571429e-06, 'epoch': 3.0}\n",
      "{'loss': 0.2426, 'learning_rate': 7.857142857142858e-06, 'epoch': 3.06}\n",
      "{'loss': 0.2361, 'learning_rate': 7.785714285714287e-06, 'epoch': 3.12}\n",
      "{'loss': 0.2309, 'learning_rate': 7.714285714285716e-06, 'epoch': 3.18}\n",
      "{'loss': 0.2365, 'learning_rate': 7.642857142857143e-06, 'epoch': 3.24}\n",
      "{'loss': 0.2419, 'learning_rate': 7.571428571428572e-06, 'epoch': 3.3}\n",
      "{'loss': 0.2369, 'learning_rate': 7.500000000000001e-06, 'epoch': 3.36}\n",
      "{'loss': 0.2322, 'learning_rate': 7.428571428571429e-06, 'epoch': 3.42}\n",
      "{'loss': 0.2347, 'learning_rate': 7.357142857142858e-06, 'epoch': 3.48}\n",
      "{'loss': 0.2304, 'learning_rate': 7.285714285714286e-06, 'epoch': 3.55}\n",
      "{'loss': 0.236, 'learning_rate': 7.2142857142857145e-06, 'epoch': 3.61}\n",
      "{'loss': 0.2292, 'learning_rate': 7.1428571428571436e-06, 'epoch': 3.67}\n",
      "{'loss': 0.245, 'learning_rate': 7.0714285714285726e-06, 'epoch': 3.73}\n",
      "{'loss': 0.2449, 'learning_rate': 7e-06, 'epoch': 3.79}\n",
      "{'loss': 0.2341, 'learning_rate': 6.928571428571429e-06, 'epoch': 3.85}\n",
      "{'loss': 0.229, 'learning_rate': 6.857142857142858e-06, 'epoch': 3.91}\n",
      "{'loss': 0.231, 'learning_rate': 6.785714285714287e-06, 'epoch': 3.97}\n",
      "{'loss': 0.2004, 'learning_rate': 6.714285714285714e-06, 'epoch': 4.03}\n",
      "{'loss': 0.1901, 'learning_rate': 6.642857142857143e-06, 'epoch': 4.1}\n",
      "{'loss': 0.1812, 'learning_rate': 6.571428571428572e-06, 'epoch': 4.16}\n",
      "{'loss': 0.1831, 'learning_rate': 6.5000000000000004e-06, 'epoch': 4.22}\n",
      "{'loss': 0.1959, 'learning_rate': 6.4285714285714295e-06, 'epoch': 4.28}\n",
      "{'loss': 0.1898, 'learning_rate': 6.357142857142858e-06, 'epoch': 4.34}\n",
      "{'loss': 0.1951, 'learning_rate': 6.285714285714286e-06, 'epoch': 4.4}\n",
      "{'loss': 0.1945, 'learning_rate': 6.214285714285715e-06, 'epoch': 4.46}\n",
      "{'loss': 0.1932, 'learning_rate': 6.142857142857144e-06, 'epoch': 4.52}\n",
      "{'loss': 0.1913, 'learning_rate': 6.071428571428571e-06, 'epoch': 4.58}\n",
      "{'loss': 0.1896, 'learning_rate': 6e-06, 'epoch': 4.65}\n",
      "{'loss': 0.1998, 'learning_rate': 5.928571428571429e-06, 'epoch': 4.71}\n",
      "{'loss': 0.1932, 'learning_rate': 5.857142857142858e-06, 'epoch': 4.77}\n",
      "{'loss': 0.1803, 'learning_rate': 5.785714285714286e-06, 'epoch': 4.83}\n",
      "{'loss': 0.1851, 'learning_rate': 5.7142857142857145e-06, 'epoch': 4.89}\n"
     ]
    },
    {
     "data": {
      "application/vnd.jupyter.widget-view+json": {
       "model_id": "e44a02effcfa4c07a8017697f875e4ac",
       "version_major": 2,
       "version_minor": 0
      },
      "text/plain": [
       "  0%|          | 0/362 [00:00<?, ?it/s]"
      ]
     },
     "metadata": {},
     "output_type": "display_data"
    },
    {
     "name": "stdout",
     "output_type": "stream",
     "text": [
      "{'eval_loss': 0.5144132375717163, 'eval_wer': 70.07110810124439, 'eval_runtime': 4488.0536, 'eval_samples_per_second': 0.645, 'eval_steps_per_second': 0.081, 'epoch': 4.89}\n"
     ]
    },
    {
     "name": "stderr",
     "output_type": "stream",
     "text": [
      "/Library/Frameworks/Python.framework/Versions/3.11/lib/python3.11/site-packages/torch/utils/checkpoint.py:429: UserWarning: torch.utils.checkpoint: please pass in use_reentrant=True or use_reentrant=False explicitly. The default value of use_reentrant will be updated to be False in the future. To maintain current behavior, pass use_reentrant=True. It is recommended that you use use_reentrant=False. Refer to docs for more details on the differences between the two variants.\n",
      "  warnings.warn(\n"
     ]
    },
    {
     "name": "stdout",
     "output_type": "stream",
     "text": [
      "{'loss': 0.1792, 'learning_rate': 5.6428571428571435e-06, 'epoch': 4.95}\n",
      "{'loss': 0.1835, 'learning_rate': 5.571428571428572e-06, 'epoch': 5.01}\n",
      "{'loss': 0.1499, 'learning_rate': 5.500000000000001e-06, 'epoch': 5.07}\n",
      "{'loss': 0.1555, 'learning_rate': 5.428571428571429e-06, 'epoch': 5.13}\n",
      "{'loss': 0.1573, 'learning_rate': 5.357142857142857e-06, 'epoch': 5.2}\n",
      "{'loss': 0.1571, 'learning_rate': 5.285714285714286e-06, 'epoch': 5.26}\n",
      "{'loss': 0.1491, 'learning_rate': 5.214285714285715e-06, 'epoch': 5.32}\n",
      "{'loss': 0.161, 'learning_rate': 5.142857142857142e-06, 'epoch': 5.38}\n",
      "{'loss': 0.1569, 'learning_rate': 5.071428571428571e-06, 'epoch': 5.44}\n",
      "{'loss': 0.1631, 'learning_rate': 5e-06, 'epoch': 5.5}\n",
      "{'loss': 0.1478, 'learning_rate': 4.928571428571429e-06, 'epoch': 5.56}\n",
      "{'loss': 0.1508, 'learning_rate': 4.857142857142858e-06, 'epoch': 5.62}\n",
      "{'loss': 0.1515, 'learning_rate': 4.785714285714287e-06, 'epoch': 5.68}\n",
      "{'loss': 0.1508, 'learning_rate': 4.714285714285715e-06, 'epoch': 5.75}\n",
      "{'loss': 0.1467, 'learning_rate': 4.642857142857144e-06, 'epoch': 5.81}\n",
      "{'loss': 0.1571, 'learning_rate': 4.571428571428572e-06, 'epoch': 5.87}\n",
      "{'loss': 0.152, 'learning_rate': 4.5e-06, 'epoch': 5.93}\n",
      "{'loss': 0.161, 'learning_rate': 4.428571428571429e-06, 'epoch': 5.99}\n",
      "{'loss': 0.1303, 'learning_rate': 4.357142857142857e-06, 'epoch': 6.05}\n",
      "{'loss': 0.1318, 'learning_rate': 4.2857142857142855e-06, 'epoch': 6.11}\n",
      "{'loss': 0.1192, 'learning_rate': 4.2142857142857145e-06, 'epoch': 6.17}\n",
      "{'loss': 0.1258, 'learning_rate': 4.1428571428571435e-06, 'epoch': 6.23}\n",
      "{'loss': 0.1293, 'learning_rate': 4.071428571428572e-06, 'epoch': 6.3}\n",
      "{'loss': 0.1258, 'learning_rate': 4.000000000000001e-06, 'epoch': 6.36}\n",
      "{'loss': 0.1206, 'learning_rate': 3.928571428571429e-06, 'epoch': 6.42}\n",
      "{'loss': 0.1309, 'learning_rate': 3.857142857142858e-06, 'epoch': 6.48}\n",
      "{'loss': 0.121, 'learning_rate': 3.785714285714286e-06, 'epoch': 6.54}\n",
      "{'loss': 0.127, 'learning_rate': 3.7142857142857146e-06, 'epoch': 6.6}\n",
      "{'loss': 0.1289, 'learning_rate': 3.642857142857143e-06, 'epoch': 6.66}\n",
      "{'loss': 0.1314, 'learning_rate': 3.5714285714285718e-06, 'epoch': 6.72}\n",
      "{'loss': 0.124, 'learning_rate': 3.5e-06, 'epoch': 6.78}\n",
      "{'loss': 0.1384, 'learning_rate': 3.428571428571429e-06, 'epoch': 6.85}\n",
      "{'loss': 0.1307, 'learning_rate': 3.357142857142857e-06, 'epoch': 6.91}\n",
      "{'loss': 0.1321, 'learning_rate': 3.285714285714286e-06, 'epoch': 6.97}\n",
      "{'loss': 0.1191, 'learning_rate': 3.2142857142857147e-06, 'epoch': 7.03}\n",
      "{'loss': 0.1039, 'learning_rate': 3.142857142857143e-06, 'epoch': 7.09}\n",
      "{'loss': 0.1035, 'learning_rate': 3.071428571428572e-06, 'epoch': 7.15}\n",
      "{'loss': 0.1084, 'learning_rate': 3e-06, 'epoch': 7.21}\n",
      "{'loss': 0.103, 'learning_rate': 2.928571428571429e-06, 'epoch': 7.27}\n",
      "{'loss': 0.1089, 'learning_rate': 2.8571428571428573e-06, 'epoch': 7.33}\n"
     ]
    },
    {
     "data": {
      "application/vnd.jupyter.widget-view+json": {
       "model_id": "3a2ad54adbc547f9b691252dacc1dafb",
       "version_major": 2,
       "version_minor": 0
      },
      "text/plain": [
       "  0%|          | 0/362 [00:00<?, ?it/s]"
      ]
     },
     "metadata": {},
     "output_type": "display_data"
    },
    {
     "name": "stdout",
     "output_type": "stream",
     "text": [
      "{'eval_loss': 0.5486611127853394, 'eval_wer': 73.1863201557606, 'eval_runtime': 4360.9016, 'eval_samples_per_second': 0.664, 'eval_steps_per_second': 0.083, 'epoch': 7.33}\n"
     ]
    },
    {
     "name": "stderr",
     "output_type": "stream",
     "text": [
      "/Library/Frameworks/Python.framework/Versions/3.11/lib/python3.11/site-packages/torch/utils/checkpoint.py:429: UserWarning: torch.utils.checkpoint: please pass in use_reentrant=True or use_reentrant=False explicitly. The default value of use_reentrant will be updated to be False in the future. To maintain current behavior, pass use_reentrant=True. It is recommended that you use use_reentrant=False. Refer to docs for more details on the differences between the two variants.\n",
      "  warnings.warn(\n"
     ]
    },
    {
     "name": "stdout",
     "output_type": "stream",
     "text": [
      "{'loss': 0.1136, 'learning_rate': 2.785714285714286e-06, 'epoch': 7.4}\n",
      "{'loss': 0.1056, 'learning_rate': 2.7142857142857144e-06, 'epoch': 7.46}\n",
      "{'loss': 0.1075, 'learning_rate': 2.642857142857143e-06, 'epoch': 7.52}\n",
      "{'loss': 0.1112, 'learning_rate': 2.571428571428571e-06, 'epoch': 7.58}\n",
      "{'loss': 0.1103, 'learning_rate': 2.5e-06, 'epoch': 7.64}\n",
      "{'loss': 0.1089, 'learning_rate': 2.428571428571429e-06, 'epoch': 7.7}\n",
      "{'loss': 0.1082, 'learning_rate': 2.3571428571428574e-06, 'epoch': 7.76}\n",
      "{'loss': 0.106, 'learning_rate': 2.285714285714286e-06, 'epoch': 7.82}\n",
      "{'loss': 0.1096, 'learning_rate': 2.2142857142857146e-06, 'epoch': 7.89}\n",
      "{'loss': 0.1053, 'learning_rate': 2.1428571428571427e-06, 'epoch': 7.95}\n",
      "{'loss': 0.1099, 'learning_rate': 2.0714285714285717e-06, 'epoch': 8.01}\n",
      "{'loss': 0.0933, 'learning_rate': 2.0000000000000003e-06, 'epoch': 8.07}\n",
      "{'loss': 0.0888, 'learning_rate': 1.928571428571429e-06, 'epoch': 8.13}\n",
      "{'loss': 0.0899, 'learning_rate': 1.8571428571428573e-06, 'epoch': 8.19}\n",
      "{'loss': 0.0904, 'learning_rate': 1.7857142857142859e-06, 'epoch': 8.25}\n",
      "{'loss': 0.0942, 'learning_rate': 1.7142857142857145e-06, 'epoch': 8.31}\n",
      "{'loss': 0.0923, 'learning_rate': 1.642857142857143e-06, 'epoch': 8.37}\n",
      "{'loss': 0.0893, 'learning_rate': 1.5714285714285714e-06, 'epoch': 8.44}\n",
      "{'loss': 0.0933, 'learning_rate': 1.5e-06, 'epoch': 8.5}\n",
      "{'loss': 0.0978, 'learning_rate': 1.4285714285714286e-06, 'epoch': 8.56}\n",
      "{'loss': 0.0977, 'learning_rate': 1.3571428571428572e-06, 'epoch': 8.62}\n",
      "{'loss': 0.0971, 'learning_rate': 1.2857142857142856e-06, 'epoch': 8.68}\n",
      "{'loss': 0.0892, 'learning_rate': 1.2142857142857144e-06, 'epoch': 8.74}\n",
      "{'loss': 0.1025, 'learning_rate': 1.142857142857143e-06, 'epoch': 8.8}\n",
      "{'loss': 0.0974, 'learning_rate': 1.0714285714285714e-06, 'epoch': 8.86}\n",
      "{'loss': 0.0953, 'learning_rate': 1.0000000000000002e-06, 'epoch': 8.92}\n",
      "{'loss': 0.0926, 'learning_rate': 9.285714285714287e-07, 'epoch': 8.99}\n",
      "{'loss': 0.0816, 'learning_rate': 8.571428571428572e-07, 'epoch': 9.05}\n",
      "{'loss': 0.0863, 'learning_rate': 7.857142857142857e-07, 'epoch': 9.11}\n",
      "{'loss': 0.0884, 'learning_rate': 7.142857142857143e-07, 'epoch': 9.17}\n",
      "{'loss': 0.0843, 'learning_rate': 6.428571428571428e-07, 'epoch': 9.23}\n",
      "{'loss': 0.0852, 'learning_rate': 5.714285714285715e-07, 'epoch': 9.29}\n",
      "{'loss': 0.0877, 'learning_rate': 5.000000000000001e-07, 'epoch': 9.35}\n",
      "{'loss': 0.085, 'learning_rate': 4.285714285714286e-07, 'epoch': 9.41}\n",
      "{'loss': 0.0842, 'learning_rate': 3.5714285714285716e-07, 'epoch': 9.47}\n",
      "{'loss': 0.0818, 'learning_rate': 2.8571428571428575e-07, 'epoch': 9.54}\n",
      "{'loss': 0.0857, 'learning_rate': 2.142857142857143e-07, 'epoch': 9.6}\n",
      "{'loss': 0.0884, 'learning_rate': 1.4285714285714287e-07, 'epoch': 9.66}\n",
      "{'loss': 0.0843, 'learning_rate': 7.142857142857144e-08, 'epoch': 9.72}\n",
      "{'loss': 0.0805, 'learning_rate': 0.0, 'epoch': 9.78}\n"
     ]
    },
    {
     "data": {
      "application/vnd.jupyter.widget-view+json": {
       "model_id": "8225c884a17747b591090b577b361b28",
       "version_major": 2,
       "version_minor": 0
      },
      "text/plain": [
       "  0%|          | 0/362 [00:00<?, ?it/s]"
      ]
     },
     "metadata": {},
     "output_type": "display_data"
    },
    {
     "name": "stdout",
     "output_type": "stream",
     "text": [
      "{'eval_loss': 0.5689955949783325, 'eval_wer': 85.51595699652925, 'eval_runtime': 4447.0632, 'eval_samples_per_second': 0.651, 'eval_steps_per_second': 0.081, 'epoch': 9.78}\n"
     ]
    },
    {
     "name": "stderr",
     "output_type": "stream",
     "text": [
      "There were missing keys in the checkpoint model loaded: ['proj_out.weight'].\n"
     ]
    },
    {
     "name": "stdout",
     "output_type": "stream",
     "text": [
      "{'train_runtime': 147599.683, 'train_samples_per_second': 0.434, 'train_steps_per_second': 0.027, 'train_loss': 0.3104124161601067, 'epoch': 9.78}\n"
     ]
    },
    {
     "data": {
      "text/plain": [
       "TrainOutput(global_step=4000, training_loss=0.3104124161601067, metrics={'train_runtime': 147599.683, 'train_samples_per_second': 0.434, 'train_steps_per_second': 0.027, 'train_loss': 0.3104124161601067, 'epoch': 9.78})"
      ]
     },
     "execution_count": 20,
     "metadata": {},
     "output_type": "execute_result"
    }
   ],
   "source": [
    "from transformers import Seq2SeqTrainer\n",
    "\n",
    "trainer = Seq2SeqTrainer(\n",
    "    args=training_args,\n",
    "    model=model,\n",
    "    train_dataset=common_voice[\"train\"],\n",
    "    eval_dataset=common_voice[\"test\"],\n",
    "    data_collator=data_collator,\n",
    "    compute_metrics=compute_metrics,\n",
    "    tokenizer=processor.feature_extractor,\n",
    ")\n",
    "\n",
    "trainer.train()"
   ]
  }
 ],
 "metadata": {
  "kernelspec": {
   "display_name": "Python 3",
   "language": "python",
   "name": "python3"
  },
  "language_info": {
   "codemirror_mode": {
    "name": "ipython",
    "version": 3
   },
   "file_extension": ".py",
   "mimetype": "text/x-python",
   "name": "python",
   "nbconvert_exporter": "python",
   "pygments_lexer": "ipython3",
   "version": "3.11.5"
  }
 },
 "nbformat": 4,
 "nbformat_minor": 2
}
